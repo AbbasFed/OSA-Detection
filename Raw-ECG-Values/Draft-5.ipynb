{
 "cells": [
  {
   "cell_type": "code",
   "execution_count": 1,
   "id": "566d29cd-c051-445b-a965-9bdd81b2e32f",
   "metadata": {
    "tags": []
   },
   "outputs": [
    {
     "name": "stdout",
     "output_type": "stream",
     "text": [
      "WARNING:tensorflow:From C:\\Users\\abbas\\anaconda3\\Lib\\site-packages\\keras\\src\\losses.py:2976: The name tf.losses.sparse_softmax_cross_entropy is deprecated. Please use tf.compat.v1.losses.sparse_softmax_cross_entropy instead.\n",
      "\n"
     ]
    }
   ],
   "source": [
    "import numpy as np\n",
    "import pandas as pd\n",
    "import wfdb\n",
    "import os\n",
    "import scipy.signal as sgn\n",
    "from tqdm import tqdm\n",
    "from keras import models, layers, optimizers, regularizers\n",
    "from keras.callbacks import ModelCheckpoint, ReduceLROnPlateau, EarlyStopping\n",
    "from sklearn.utils.class_weight import compute_class_weight\n",
    "from scipy.signal import cheby1, filtfilt"
   ]
  },
  {
   "cell_type": "code",
   "execution_count": 2,
   "id": "837e9718-0d1f-4aea-bec8-49663ea1933e",
   "metadata": {
    "tags": []
   },
   "outputs": [],
   "source": [
    "# File paths\n",
    "train_files = [f\"a{str(i).zfill(2)}\" for i in range(1, 21)] + [f\"b{str(i).zfill(2)}\" for i in range(1, 6)] + [f\"c{str(i).zfill(2)}\" for i in range(1, 11)]\n",
    "test_files = [f\"x{str(i).zfill(2)}\" for i in range(1, 36)]\n",
    "base_path = \"apnea-ecg/1.0.0/\"\n",
    "train_paths = [os.path.join(base_path, file) for file in train_files]\n",
    "test_paths = [os.path.join(base_path, file) for file in test_files]\n"
   ]
  },
  {
   "cell_type": "code",
   "execution_count": 3,
   "id": "dede400d-6537-4615-a578-474ebcefc295",
   "metadata": {
    "tags": []
   },
   "outputs": [],
   "source": [
    "# Data augmentation functions\n",
    "def add_noise(signal, noise_factor=0.005):\n",
    "    noise = np.random.randn(len(signal)) * noise_factor\n",
    "    return signal + noise\n",
    "\n",
    "def scale(signal, scaling_factor=0.1):\n",
    "    scale = np.random.uniform(1 - scaling_factor, 1 + scaling_factor)\n",
    "    return signal * scale\n",
    "\n",
    "def time_shift(signal, shift_max=50):\n",
    "    shift = np.random.randint(-shift_max, shift_max)\n",
    "    if shift > 0:\n",
    "        return np.r_[signal[shift:], np.zeros(shift)]\n",
    "    else:\n",
    "        return np.r_[np.zeros(-shift), signal[:shift]]\n",
    "\n",
    "def flip(signal):\n",
    "    return -signal\n",
    "\n",
    "def random_dropout(signal, drop_factor=0.1):\n",
    "    drop_indices = np.random.choice(len(signal), int(len(signal) * drop_factor), replace=False)\n",
    "    signal_copy = signal.copy()\n",
    "    signal_copy[drop_indices] = 0\n",
    "    return signal_copy\n",
    "\n",
    "\n",
    "# Preprocessing function\n",
    "def apply_chebyshev_filter(signal, lowcut=0.5, highcut=40, fs=100, order=4):\n",
    "    nyquist = 0.5 * fs\n",
    "    low = lowcut / nyquist\n",
    "    high = highcut / nyquist\n",
    "    b, a = cheby1(order, 0.5, [low, high], btype='band')\n",
    "    return filtfilt(b, a, signal)\n",
    "\n",
    "def load_ecg_and_segment(file, segment_duration=10, fs=100):\n",
    "    record = wfdb.rdrecord(file)\n",
    "    annotation = wfdb.rdann(file, 'apn')\n",
    "    signal = record.p_signal[:, 0]\n",
    "    filtered_signal = apply_chebyshev_filter(signal)\n",
    "    segments, labels = [], []\n",
    "    samples_per_segment = segment_duration * fs\n",
    "\n",
    "    for i, samp in enumerate(annotation.sample):\n",
    "        start = max(samp - samples_per_segment // 2, 0)\n",
    "        end = start + samples_per_segment\n",
    "        if end > len(filtered_signal):\n",
    "            break\n",
    "        segment = filtered_signal[start:end]\n",
    "        segments.append(segment)\n",
    "        labels.append(1 if annotation.symbol[i] == 'A' else 0)\n",
    "        \n",
    "    return np.array(segments), np.array(labels)\n",
    "\n",
    "# Adjust augment_data to ensure consistent segment length\n",
    "def augment_data(signal, segment_length=1000):\n",
    "    augmentations = [add_noise, scale, time_shift, flip, random_dropout]\n",
    "    augmented_signals = []\n",
    "    for aug in augmentations:\n",
    "        augmented_signal = aug(signal)\n",
    "        # Ensure each augmented signal has the same length\n",
    "        if len(augmented_signal) > segment_length:\n",
    "            augmented_signal = augmented_signal[:segment_length]\n",
    "        elif len(augmented_signal) < segment_length:\n",
    "            augmented_signal = np.pad(augmented_signal, (0, segment_length - len(augmented_signal)), 'constant')\n",
    "        augmented_signals.append(augmented_signal)\n",
    "    return augmented_signals\n",
    "\n",
    "# Modify prepare_data_with_augmentation to ensure consistent segment length\n",
    "def prepare_data_with_augmentation(paths, segment_length=1000, augment=True):\n",
    "    X, y = [], []\n",
    "    for path in tqdm(paths):\n",
    "        segments, seg_labels = load_ecg_and_segment(path)\n",
    "        for i, segment in enumerate(segments):\n",
    "            # Ensure each original segment has the desired length\n",
    "            if len(segment) < segment_length:\n",
    "                segment = np.pad(segment, (0, segment_length - len(segment)), 'constant')\n",
    "            X.append(segment)\n",
    "            y.append(seg_labels[i])\n",
    "            \n",
    "            # Augment if specified\n",
    "            if augment:\n",
    "                augmented_segments = augment_data(segment, segment_length=segment_length)\n",
    "                X.extend(augmented_segments)\n",
    "                y.extend([seg_labels[i]] * len(augmented_segments))  \n",
    "\n",
    "    return np.array(X), np.array(y)\n"
   ]
  },
  {
   "cell_type": "code",
   "execution_count": 4,
   "id": "55da9faf-3c12-4234-842c-e747d976c979",
   "metadata": {
    "tags": []
   },
   "outputs": [
    {
     "name": "stderr",
     "output_type": "stream",
     "text": [
      "100%|██████████████████████████████████████████████████████████████████████████████████| 35/35 [00:11<00:00,  2.95it/s]\n",
      "100%|██████████████████████████████████████████████████████████████████████████████████| 35/35 [00:07<00:00,  4.44it/s]\n"
     ]
    },
    {
     "name": "stdout",
     "output_type": "stream",
     "text": [
      "Training segments: 102270, Test segments: 17268\n",
      "Training data shape: (102270, 1000, 1)\n",
      "Training labels shape: (102270,)\n",
      "Test data shape: (17268, 1000, 1)\n",
      "Test labels shape: (17268,)\n"
     ]
    }
   ],
   "source": [
    "from sklearn.utils import shuffle\n",
    "\n",
    "# Load and augment training data\n",
    "X_train, y_train = prepare_data_with_augmentation(train_paths, segment_length=1000, augment=True)\n",
    "X_test, y_test = prepare_data_with_augmentation(test_paths, segment_length=1000, augment=False)\n",
    "\n",
    "\n",
    "# Shuffle the data\n",
    "X_train, y_train = shuffle(X_train, y_train, random_state=42)\n",
    "\n",
    "# Print the number of segments loaded for verification\n",
    "print(f\"Training segments: {len(X_train)}, Test segments: {len(X_test)}\")\n",
    "\n",
    "# Reshape data for model input format\n",
    "X_train = X_train[..., np.newaxis]  # Adding channel dimension\n",
    "X_test = X_test[..., np.newaxis]\n",
    "\n",
    "print(\"Training data shape:\", X_train.shape)\n",
    "print(\"Training labels shape:\", y_train.shape)\n",
    "print(\"Test data shape:\", X_test.shape)\n",
    "print(\"Test labels shape:\", y_test.shape)"
   ]
  },
  {
   "cell_type": "code",
   "execution_count": 6,
   "id": "7c624576-e26e-4a11-a86b-ae445d0e4e00",
   "metadata": {
    "tags": []
   },
   "outputs": [],
   "source": [
    "# Build CNN-LSTM Model\n",
    "def build_cnn_lstm_model(input_shape):\n",
    "    input_layer = layers.Input(shape=input_shape)\n",
    "    x_bn = layers.BatchNormalization()(input_layer)\n",
    "    \n",
    "    branch1 = layers.Conv1D(24, kernel_size=125, strides=1, activation='relu', padding='same')(x_bn)\n",
    "    branch1 = layers.MaxPooling1D(pool_size=2, strides=1, padding='same')(branch1)\n",
    "    \n",
    "    branch2 = layers.Conv1D(24, kernel_size=15, strides=1, activation='relu', padding='same')(x_bn)\n",
    "    branch2 = layers.MaxPooling1D(pool_size=2, strides=1, padding='same')(branch2)\n",
    "    \n",
    "    branch3 = layers.Conv1D(24, kernel_size=5, strides=1, activation='relu', padding='same')(x_bn)\n",
    "    branch3 = layers.MaxPooling1D(pool_size=2, strides=1, padding='same')(branch3)\n",
    "    \n",
    "    concatenated = layers.Concatenate(axis=-1)([branch1, branch2, branch3])\n",
    "    x = layers.MaxPooling1D(pool_size=3, strides=1, padding='same')(concatenated)\n",
    "    \n",
    "    conv_adjusted = layers.Conv1D(24, kernel_size=3, strides=1, activation='relu', padding='same', kernel_regularizer=regularizers.l2(0.01))(x)\n",
    "    x = layers.BatchNormalization()(conv_adjusted)\n",
    "    x = layers.Add()([x, conv_adjusted])\n",
    "    \n",
    "    x = layers.Dense(48, activation='leaky_relu', kernel_regularizer=regularizers.l2(0.01))(x)\n",
    "    x = layers.Dropout(0.5)(x)\n",
    "    \n",
    "    x = layers.GlobalAveragePooling1D()(x)\n",
    "    x = layers.Reshape((1, -1))(x)\n",
    "    x = layers.LSTM(64)(x)\n",
    "    \n",
    "    output_layer = layers.Dense(2, activation='softmax')(x)\n",
    "    model = models.Model(inputs=input_layer, outputs=output_layer)\n",
    "    return model\n"
   ]
  },
  {
   "cell_type": "code",
   "execution_count": 11,
   "id": "da14a4f4-9571-4ec0-af55-5f6437a78fbc",
   "metadata": {
    "tags": []
   },
   "outputs": [
    {
     "name": "stdout",
     "output_type": "stream",
     "text": [
      "Training on fold 1...\n",
      "Epoch 1/10\n",
      "1199/1199 [==============================] - 214s 176ms/step - loss: 0.4678 - accuracy: 0.8087 - val_loss: 0.6031 - val_accuracy: 0.7628\n",
      "Epoch 2/10\n",
      "1199/1199 [==============================] - 221s 184ms/step - loss: 0.3500 - accuracy: 0.8516 - val_loss: 0.3326 - val_accuracy: 0.8639\n",
      "Epoch 3/10\n",
      "1199/1199 [==============================] - 236s 197ms/step - loss: 0.3298 - accuracy: 0.8617 - val_loss: 0.3715 - val_accuracy: 0.8369\n",
      "Epoch 4/10\n",
      "1199/1199 [==============================] - 232s 193ms/step - loss: 0.3149 - accuracy: 0.8690 - val_loss: 0.3123 - val_accuracy: 0.8702\n",
      "Epoch 5/10\n",
      "1199/1199 [==============================] - 240s 200ms/step - loss: 0.3065 - accuracy: 0.8730 - val_loss: 0.3060 - val_accuracy: 0.8755\n",
      "Epoch 6/10\n",
      "1199/1199 [==============================] - 250s 209ms/step - loss: 0.3008 - accuracy: 0.8759 - val_loss: 0.3046 - val_accuracy: 0.8727\n",
      "Epoch 7/10\n",
      "1199/1199 [==============================] - 200s 166ms/step - loss: 0.2928 - accuracy: 0.8790 - val_loss: 0.3249 - val_accuracy: 0.8648\n",
      "Epoch 8/10\n",
      "1199/1199 [==============================] - 194s 162ms/step - loss: 0.2873 - accuracy: 0.8824 - val_loss: 0.2818 - val_accuracy: 0.8855\n",
      "Epoch 9/10\n",
      "1199/1199 [==============================] - 225s 188ms/step - loss: 0.2817 - accuracy: 0.8847 - val_loss: 0.3244 - val_accuracy: 0.8650\n",
      "Epoch 10/10\n",
      "1199/1199 [==============================] - 248s 207ms/step - loss: 0.2777 - accuracy: 0.8866 - val_loss: 0.3033 - val_accuracy: 0.8764\n",
      "Score for fold 1: accuracy of 87.64079809188843%\n",
      "Training on fold 2...\n",
      "Epoch 1/10\n",
      "1199/1199 [==============================] - 239s 196ms/step - loss: 0.4648 - accuracy: 0.8094 - val_loss: 0.3694 - val_accuracy: 0.8322\n",
      "Epoch 2/10\n",
      "1199/1199 [==============================] - 243s 202ms/step - loss: 0.3543 - accuracy: 0.8474 - val_loss: 0.3379 - val_accuracy: 0.8536\n",
      "Epoch 3/10\n",
      "1199/1199 [==============================] - 209s 175ms/step - loss: 0.3317 - accuracy: 0.8582 - val_loss: 0.3254 - val_accuracy: 0.8652\n",
      "Epoch 4/10\n",
      "1199/1199 [==============================] - 214s 178ms/step - loss: 0.3165 - accuracy: 0.8664 - val_loss: 0.3321 - val_accuracy: 0.8619\n",
      "Epoch 5/10\n",
      "1199/1199 [==============================] - 201s 168ms/step - loss: 0.3087 - accuracy: 0.8692 - val_loss: 0.3192 - val_accuracy: 0.8688\n",
      "Epoch 6/10\n",
      "1199/1199 [==============================] - 188s 157ms/step - loss: 0.3026 - accuracy: 0.8718 - val_loss: 0.3021 - val_accuracy: 0.8746\n",
      "Epoch 7/10\n",
      "1199/1199 [==============================] - 152s 127ms/step - loss: 0.2967 - accuracy: 0.8746 - val_loss: 0.2843 - val_accuracy: 0.8898\n",
      "Epoch 8/10\n",
      "1199/1199 [==============================] - 153s 127ms/step - loss: 0.2907 - accuracy: 0.8782 - val_loss: 0.3190 - val_accuracy: 0.8712\n",
      "Epoch 9/10\n",
      "1199/1199 [==============================] - 152s 127ms/step - loss: 0.2881 - accuracy: 0.8788 - val_loss: 0.2954 - val_accuracy: 0.8743\n",
      "Epoch 10/10\n",
      "1199/1199 [==============================] - 164s 137ms/step - loss: 0.2828 - accuracy: 0.8809 - val_loss: 0.2765 - val_accuracy: 0.8879\n",
      "Score for fold 2: accuracy of 88.79458904266357%\n",
      "Training on fold 3...\n",
      "Epoch 1/10\n",
      "1199/1199 [==============================] - 183s 149ms/step - loss: 0.4643 - accuracy: 0.8105 - val_loss: 0.4753 - val_accuracy: 0.7798\n",
      "Epoch 2/10\n",
      "1199/1199 [==============================] - 178s 148ms/step - loss: 0.3555 - accuracy: 0.8453 - val_loss: 0.3424 - val_accuracy: 0.8492\n",
      "Epoch 3/10\n",
      "1199/1199 [==============================] - 179s 149ms/step - loss: 0.3333 - accuracy: 0.8550 - val_loss: 0.3546 - val_accuracy: 0.8378\n",
      "Epoch 4/10\n",
      "1199/1199 [==============================] - 177s 148ms/step - loss: 0.3217 - accuracy: 0.8618 - val_loss: 0.3318 - val_accuracy: 0.8559\n",
      "Epoch 5/10\n",
      "1199/1199 [==============================] - 178s 148ms/step - loss: 0.3112 - accuracy: 0.8677 - val_loss: 0.3075 - val_accuracy: 0.8715\n",
      "Epoch 6/10\n",
      "1199/1199 [==============================] - 178s 148ms/step - loss: 0.3046 - accuracy: 0.8701 - val_loss: 0.3219 - val_accuracy: 0.8663\n",
      "Epoch 7/10\n",
      "1199/1199 [==============================] - 180s 150ms/step - loss: 0.2986 - accuracy: 0.8722 - val_loss: 0.3766 - val_accuracy: 0.8374\n",
      "Epoch 8/10\n",
      "1199/1199 [==============================] - 177s 148ms/step - loss: 0.2951 - accuracy: 0.8755 - val_loss: 0.2880 - val_accuracy: 0.8785\n",
      "Epoch 9/10\n",
      "1199/1199 [==============================] - 178s 148ms/step - loss: 0.2877 - accuracy: 0.8786 - val_loss: 0.2900 - val_accuracy: 0.8774\n",
      "Epoch 10/10\n",
      "1199/1199 [==============================] - 176s 147ms/step - loss: 0.2857 - accuracy: 0.8789 - val_loss: 0.2820 - val_accuracy: 0.8801\n",
      "Score for fold 3: accuracy of 88.00798058509827%\n",
      "Training on fold 4...\n",
      "Epoch 1/10\n",
      "1199/1199 [==============================] - 187s 152ms/step - loss: 0.4653 - accuracy: 0.8102 - val_loss: 0.3942 - val_accuracy: 0.8242\n",
      "Epoch 2/10\n",
      "1199/1199 [==============================] - 180s 150ms/step - loss: 0.3546 - accuracy: 0.8477 - val_loss: 0.3607 - val_accuracy: 0.8484\n",
      "Epoch 3/10\n",
      "1199/1199 [==============================] - 182s 152ms/step - loss: 0.3347 - accuracy: 0.8582 - val_loss: 0.3471 - val_accuracy: 0.8480\n",
      "Epoch 4/10\n",
      "1199/1199 [==============================] - 180s 150ms/step - loss: 0.3209 - accuracy: 0.8639 - val_loss: 0.4047 - val_accuracy: 0.8120\n",
      "Epoch 5/10\n",
      "1199/1199 [==============================] - 180s 150ms/step - loss: 0.3112 - accuracy: 0.8695 - val_loss: 0.3032 - val_accuracy: 0.8732\n",
      "Epoch 6/10\n",
      "1199/1199 [==============================] - 180s 150ms/step - loss: 0.3032 - accuracy: 0.8731 - val_loss: 0.3121 - val_accuracy: 0.8690\n",
      "Epoch 7/10\n",
      "1199/1199 [==============================] - 181s 151ms/step - loss: 0.2950 - accuracy: 0.8775 - val_loss: 0.2836 - val_accuracy: 0.8877\n",
      "Epoch 8/10\n",
      "1199/1199 [==============================] - 168s 140ms/step - loss: 0.2890 - accuracy: 0.8807 - val_loss: 0.3099 - val_accuracy: 0.8681\n",
      "Epoch 9/10\n",
      "1199/1199 [==============================] - 172s 144ms/step - loss: 0.2845 - accuracy: 0.8827 - val_loss: 0.2891 - val_accuracy: 0.8791\n",
      "Epoch 10/10\n",
      "1199/1199 [==============================] - ETA: 0s - loss: 0.2796 - accuracy: 0.8860Restoring model weights from the end of the best epoch: 7.\n",
      "1199/1199 [==============================] - 174s 146ms/step - loss: 0.2796 - accuracy: 0.8860 - val_loss: 0.2928 - val_accuracy: 0.8762\n",
      "Epoch 10: early stopping\n",
      "Score for fold 4: accuracy of 88.77068161964417%\n",
      "Average cross-validated accuracy: 88.30%\n"
     ]
    }
   ],
   "source": [
    "from sklearn.model_selection import KFold\n",
    "\n",
    "\n",
    "# Cross-validation setup\n",
    "n_splits = 4  # Define number of splits for KFold\n",
    "kf = KFold(n_splits=n_splits, shuffle=True, random_state=42)\n",
    "input_shape = (1000, 1)\n",
    "\n",
    "# Placeholder for cross-validation results\n",
    "fold_no = 1\n",
    "all_scores = []\n",
    "\n",
    "for train_index, val_index in kf.split(X_train):\n",
    "    # Split data\n",
    "    X_ctrain, X_val = X_train[train_index], X_train[val_index]\n",
    "    y_ctrain, y_val = y_train[train_index], y_train[val_index]\n",
    "    \n",
    "    # Build and compile model\n",
    "    model = build_cnn_lstm_model(input_shape)\n",
    "    model.compile(optimizer=optimizers.Adam(learning_rate=0.001), \n",
    "                  loss='sparse_categorical_crossentropy', \n",
    "                  metrics=['accuracy'])\n",
    "     # Define early stopping callback\n",
    "    early_stopping = EarlyStopping(monitor='val_loss', patience=3, restore_best_weights=True, verbose=1)\n",
    "    \n",
    "    \n",
    "    # Train model\n",
    "    print(f'Training on fold {fold_no}...')\n",
    "     # Train the model with early stopping\n",
    "    history = model.fit(\n",
    "        X_ctrain, y_ctrain,\n",
    "        validation_data=(X_val, y_val),\n",
    "        epochs=10,\n",
    "        batch_size=64,\n",
    "        callbacks=[early_stopping],\n",
    "        verbose=1\n",
    "    )\n",
    "    \n",
    "    # Evaluate model\n",
    "    scores = model.evaluate(X_val, y_val, verbose=0)\n",
    "    print(f\"Score for fold {fold_no}: {model.metrics_names[1]} of {scores[1] * 100}%\")\n",
    "    all_scores.append(scores[1])\n",
    "    \n",
    "    fold_no += 1\n",
    "\n",
    "# Calculate the average accuracy across folds\n",
    "average_accuracy = np.mean(all_scores)\n",
    "print(f'Average cross-validated accuracy: {average_accuracy * 100:.2f}%')"
   ]
  },
  {
   "cell_type": "code",
   "execution_count": 14,
   "id": "19687f75-d48a-45f1-8494-6a0af4dca587",
   "metadata": {
    "tags": []
   },
   "outputs": [
    {
     "data": {
      "image/png": "[encoded data removed]",
      "text/plain": [
       "<Figure size 800x500 with 1 Axes>"
      ]
     },
     "metadata": {},
     "output_type": "display_data"
    }
   ],
   "source": [
    "import matplotlib.pyplot as plt\n",
    "import numpy as np\n",
    "\n",
    "# Assuming all_scores has cross-validation accuracy for each fold\n",
    "n_folds = len(all_scores)\n",
    "fold_indices = range(1, n_folds + 1)\n",
    "\n",
    "# Plot the cross-validated accuracy for each fold\n",
    "plt.figure(figsize=(8, 5))\n",
    "plt.plot(fold_indices, [score * 100 for score in all_scores], marker='o', label='Fold Accuracy')\n",
    "plt.axhline(np.mean(all_scores) * 100, color='r', linestyle='--', label='Average Accuracy')\n",
    "plt.title('Cross-Validation Fold Accuracy')\n",
    "plt.xlabel('Fold')\n",
    "plt.ylabel('Accuracy (%)')\n",
    "plt.legend()\n",
    "plt.show()"
   ]
  },
  {
   "cell_type": "code",
   "execution_count": 17,
   "id": "dcfbb088-0801-4f91-a607-7819f326548f",
   "metadata": {
    "tags": []
   },
   "outputs": [
    {
     "name": "stdout",
     "output_type": "stream",
     "text": [
      "540/540 [==============================] - 7s 14ms/step - loss: 0.6426 - accuracy: 0.7260\n",
      "Test Accuracy: 72.60%\n"
     ]
    }
   ],
   "source": [
    "# (This part will work only if you have a model ready for testing)\n",
    "test_scores = model.evaluate(X_test, y_test, verbose=1)\n",
    "print(f\"Test Accuracy: {test_scores[1] * 100:.2f}%\")"
   ]
  },
  {
   "cell_type": "code",
   "execution_count": 18,
   "id": "27614abd-781c-4de0-b6ea-0b5395f0dfdd",
   "metadata": {
    "tags": []
   },
   "outputs": [
    {
     "name": "stdout",
     "output_type": "stream",
     "text": [
      "540/540 [==============================] - 8s 14ms/step\n",
      "Cohen's Kappa Score: 0.43\n"
     ]
    }
   ],
   "source": [
    "from sklearn.metrics import cohen_kappa_score\n",
    "\n",
    "# Assuming `y_test` are the true labels and `y_pred` are the predicted labels from the model\n",
    "y_pred = model.predict(X_test)\n",
    "y_pred_classes = y_pred.argmax(axis=1)  # Convert probabilities to class labels\n",
    "\n",
    "# Calculate Kappa Score\n",
    "kappa_score = cohen_kappa_score(y_test, y_pred_classes)\n",
    "print(f\"Cohen's Kappa Score: {kappa_score:.2f}\")"
   ]
  },
  {
   "cell_type": "code",
   "execution_count": null,
   "id": "366dd2b8-3bd1-40c9-b3ac-0137d163d767",
   "metadata": {},
   "outputs": [],
   "source": []
  }
 ],
 "metadata": {
  "kernelspec": {
   "display_name": "Python 3 (ipykernel)",
   "language": "python",
   "name": "python3"
  },
  "language_info": {
   "codemirror_mode": {
    "name": "ipython",
    "version": 3
   },
   "file_extension": ".py",
   "mimetype": "text/x-python",
   "name": "python",
   "nbconvert_exporter": "python",
   "pygments_lexer": "ipython3",
   "version": "3.11.4"
  }
 },
 "nbformat": 4,
 "nbformat_minor": 5
}
