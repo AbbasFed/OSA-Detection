{
 "cells": [
  {
   "cell_type": "code",
   "execution_count": 1,
   "id": "7fc560b3-d43c-4042-8709-acaaa1cbef51",
   "metadata": {
    "tags": []
   },
   "outputs": [],
   "source": [
    "import numpy as np\n",
    "import pandas as pd\n",
    "import wfdb\n",
    "import matplotlib.pyplot as plt\n",
    "import os\n",
    "import scipy.signal as sgn\n",
    "from tqdm import tqdm\n",
    "from biosppy.signals import ecg\n",
    "from scipy.signal import medfilt\n",
    "from scipy.interpolate import CubicSpline"
   ]
  },
  {
   "cell_type": "code",
   "execution_count": 2,
   "id": "f372d8f4-2c65-4fef-8a46-4fb2ab15b40d",
   "metadata": {
    "tags": []
   },
   "outputs": [],
   "source": [
    "# get the list of files to be processed\n",
    "ecgs_df = pd.read_csv(\"apnea-ecg-database-1.0.0\\\\list\", header=None, names=['id'])\n",
    "# add filepaths so we can retrieve the files later on\n",
    "ecgs_df['filepath'] = ecgs_df['id'].apply(lambda x: str(\"apnea-ecg-database-1.0.0\\\\\" + x))\n",
    "# divide the dataset into train and test dataset as per instrucctions in the data set\n",
    "ecgs_df['dataset'] = ecgs_df['id'].apply(lambda x: \"test\" if 'x' in x else \"train\")"
   ]
  },
  {
   "cell_type": "code",
   "execution_count": 3,
   "id": "e9d66cbe-fc28-4ab8-9482-8038cb18c9cb",
   "metadata": {
    "tags": []
   },
   "outputs": [
    {
     "data": {
      "text/html": [
       "<div>\n",
       "<style scoped>\n",
       "    .dataframe tbody tr th:only-of-type {\n",
       "        vertical-align: middle;\n",
       "    }\n",
       "\n",
       "    .dataframe tbody tr th {\n",
       "        vertical-align: top;\n",
       "    }\n",
       "\n",
       "    .dataframe thead th {\n",
       "        text-align: right;\n",
       "    }\n",
       "</style>\n",
       "<table border=\"1\" class=\"dataframe\">\n",
       "  <thead>\n",
       "    <tr style=\"text-align: right;\">\n",
       "      <th></th>\n",
       "      <th>id</th>\n",
       "      <th>filepath</th>\n",
       "      <th>dataset</th>\n",
       "    </tr>\n",
       "  </thead>\n",
       "  <tbody>\n",
       "    <tr>\n",
       "      <th>0</th>\n",
       "      <td>a01</td>\n",
       "      <td>C:\\Users\\abbas\\BAU\\11Fall 2024\\FYP2\\apnea-ecg-...</td>\n",
       "      <td>train</td>\n",
       "    </tr>\n",
       "    <tr>\n",
       "      <th>1</th>\n",
       "      <td>a02</td>\n",
       "      <td>C:\\Users\\abbas\\BAU\\11Fall 2024\\FYP2\\apnea-ecg-...</td>\n",
       "      <td>train</td>\n",
       "    </tr>\n",
       "    <tr>\n",
       "      <th>2</th>\n",
       "      <td>a03</td>\n",
       "      <td>C:\\Users\\abbas\\BAU\\11Fall 2024\\FYP2\\apnea-ecg-...</td>\n",
       "      <td>train</td>\n",
       "    </tr>\n",
       "    <tr>\n",
       "      <th>3</th>\n",
       "      <td>a04</td>\n",
       "      <td>C:\\Users\\abbas\\BAU\\11Fall 2024\\FYP2\\apnea-ecg-...</td>\n",
       "      <td>train</td>\n",
       "    </tr>\n",
       "    <tr>\n",
       "      <th>4</th>\n",
       "      <td>a05</td>\n",
       "      <td>C:\\Users\\abbas\\BAU\\11Fall 2024\\FYP2\\apnea-ecg-...</td>\n",
       "      <td>train</td>\n",
       "    </tr>\n",
       "  </tbody>\n",
       "</table>\n",
       "</div>"
      ],
      "text/plain": [
       "    id                                           filepath dataset\n",
       "0  a01  C:\\Users\\abbas\\BAU\\11Fall 2024\\FYP2\\apnea-ecg-...   train\n",
       "1  a02  C:\\Users\\abbas\\BAU\\11Fall 2024\\FYP2\\apnea-ecg-...   train\n",
       "2  a03  C:\\Users\\abbas\\BAU\\11Fall 2024\\FYP2\\apnea-ecg-...   train\n",
       "3  a04  C:\\Users\\abbas\\BAU\\11Fall 2024\\FYP2\\apnea-ecg-...   train\n",
       "4  a05  C:\\Users\\abbas\\BAU\\11Fall 2024\\FYP2\\apnea-ecg-...   train"
      ]
     },
     "execution_count": 3,
     "metadata": {},
     "output_type": "execute_result"
    }
   ],
   "source": [
    "# display the first 5 entries\n",
    "ecgs_df.head()"
   ]
  },
  {
   "cell_type": "code",
   "execution_count": 4,
   "id": "913c824e-53f3-46b1-9fce-b6722a8a7c9a",
   "metadata": {
    "tags": []
   },
   "outputs": [
    {
     "name": "stdout",
     "output_type": "stream",
     "text": [
      "train    35\n",
      "test     35\n",
      "Name: dataset, dtype: int64\n"
     ]
    }
   ],
   "source": [
    "# display number of training and testing samples\n",
    "freq = ecgs_df['dataset'].value_counts()\n",
    "print(freq)"
   ]
  },
  {
   "cell_type": "code",
   "execution_count": 5,
   "id": "015c0a21-b847-4dae-aae3-3b3b24f0eaec",
   "metadata": {
    "tags": []
   },
   "outputs": [],
   "source": [
    "def load_ecg(file):\n",
    "    # load the ecg\n",
    "\n",
    "    # load the ecg\n",
    "    record = wfdb.rdrecord(file)\n",
    "\n",
    "    # load the annotation\n",
    "    annotation = wfdb.rdann(file, extension=\"apn\")\n",
    "\n",
    "    # extract the signal\n",
    "    p_signal = record.p_signal\n",
    "\n",
    "    # verify frequency is 100\n",
    "    assert record.fs == 100, 'sample freq is not 100'\n",
    "\n",
    "    # extract symbols and annotation index\n",
    "    atr_sym = annotation.symbol\n",
    "    atr_sample = annotation.sample\n",
    "\n",
    "    return p_signal, atr_sym, atr_sample"
   ]
  },
  {
   "cell_type": "code",
   "execution_count": 6,
   "id": "ec38e472-75cb-454a-b36e-8683fd50f19c",
   "metadata": {
    "tags": []
   },
   "outputs": [],
   "source": [
    "def build_XY(p_signal, df_ann, num_cols, abnormal, num_sec, fs):\n",
    "    num_rows = len(df_ann)\n",
    "    X = np.zeros((num_rows, num_cols))\n",
    "    Y = np.zeros((num_rows, 1))\n",
    "    sym = []\n",
    "    max_row = 0\n",
    "\n",
    "    for atr_sample, atr_sym in zip(df_ann.atr_sample.values, df_ann.atr_sym.values):\n",
    "        left = max([0, (atr_sample - num_sec * fs)])\n",
    "        right = min([len(p_signal), (atr_sample + num_sec * fs)])\n",
    "        x = p_signal[left: right]\n",
    "\n",
    "        # Debugging prints\n",
    "        print(f\"Left: {left}, Right: {right}, Segment Length: {len(x)}\")\n",
    "\n",
    "        if len(x) == num_cols:  # Ensure segment length matches expectation\n",
    "            X[max_row, :] = x\n",
    "            Y[max_row, :] = int(atr_sym in abnormal)\n",
    "            sym.append(atr_sym)\n",
    "            max_row += 1\n",
    "\n",
    "    X = X[:max_row, :]\n",
    "    Y = Y[:max_row, :]\n",
    "    print(len(x))\n",
    "    return X, Y, sym\n"
   ]
  },
  {
   "cell_type": "code",
   "execution_count": 7,
   "id": "0df84c68-533a-4fb6-8c52-deac3b05f0ea",
   "metadata": {
    "tags": []
   },
   "outputs": [],
   "source": [
    "def make_dataset(pts, num_sec, fs, abnormal):\n",
    "    # function for making dataset ignoring non-beats\n",
    "    # input:\n",
    "    # pts - list of patients\n",
    "    # num_sec = number of seconds to include before and after the beat\n",
    "    # fs = frequency\n",
    "    # output:\n",
    "    #   X_all = signal (nbeats , num_sec * fs columns)\n",
    "    #   Y_all = binary is abnormal (nbeats, 1)\n",
    "    #   sym_all = beat annotation symbol (nbeats,1)\n",
    "\n",
    "    # initialize numpy arrays\n",
    "    num_cols = 2*num_sec * fs\n",
    "    X_all = np.zeros((1,num_cols))\n",
    "    Y_all = np.zeros((1,1))\n",
    "    sym_all = []\n",
    "\n",
    "    # list to keep track of number of beats across patients\n",
    "    max_rows = []\n",
    "\n",
    "    for pt in pts:\n",
    "        file = pt\n",
    "\n",
    "        p_signal, atr_sym, atr_sample = load_ecg(file)\n",
    "\n",
    "        # grab the first signal\n",
    "        p_signal = p_signal[:,0]\n",
    "\n",
    "        # make df to exclude the nonbeats\n",
    "        df_ann = pd.DataFrame({'atr_sym':atr_sym,\n",
    "                              'atr_sample':atr_sample})\n",
    "\n",
    "        X, Y, sym = build_XY(p_signal, df_ann, num_cols, abnormal, num_sec, fs)\n",
    "\n",
    "        sym_all = sym_all +sym\n",
    "\n",
    "        max_rows.append(X.shape[0])\n",
    "\n",
    "        X_all = np.append(X_all,X,axis = 0)\n",
    "        Y_all = np.append(Y_all,Y,axis = 0)\n",
    "\n",
    "    # drop the first zero row\n",
    "    X_all = X_all[1:,:]\n",
    "    Y_all = Y_all[1:,:]\n",
    "\n",
    "    # check sizes make sense\n",
    "    assert np.sum(max_rows) == X_all.shape[0], 'number of X, max_rows rows messed up'\n",
    "    assert Y_all.shape[0] == X_all.shape[0], 'number of X, Y rows messed up'\n",
    "    assert Y_all.shape[0] == len(sym_all), 'number of Y, sym rows messed up'\n",
    "\n",
    "    return X_all, Y_all, sym_all"
   ]
  },
  {
   "cell_type": "code",
   "execution_count": 8,
   "id": "8e9d6d60-0ff7-45c3-ac09-453d3e503fc1",
   "metadata": {
    "tags": []
   },
   "outputs": [],
   "source": [
    "abnormal = ['A']\n"
   ]
  },
  {
   "cell_type": "code",
   "execution_count": 9,
   "id": "202d4783-3861-459e-98a3-2e41f9819266",
   "metadata": {
    "tags": []
   },
   "outputs": [],
   "source": [
    "pts = ecgs_df[ecgs_df['dataset']=='train']\n"
   ]
  },
  {
   "cell_type": "code",
   "execution_count": null,
   "id": "dc346d6e-1936-437e-8482-3bcab05b590e",
   "metadata": {
    "scrolled": true,
    "tags": []
   },
   "outputs": [],
   "source": [
    "x_train, y_train, sym_all = make_dataset(pts['filepath'], num_sec=10, fs=100, abnormal=abnormal)"
   ]
  },
  {
   "cell_type": "code",
   "execution_count": 11,
   "id": "7ca73e88-8138-44a0-823c-57b8edacf5d1",
   "metadata": {
    "tags": []
   },
   "outputs": [],
   "source": [
    "pts_text = ecgs_df[ecgs_df['dataset']=='test']\n"
   ]
  },
  {
   "cell_type": "code",
   "execution_count": null,
   "id": "c150c739-d41e-4838-9b05-2f324cf8cf50",
   "metadata": {
    "scrolled": true,
    "tags": []
   },
   "outputs": [],
   "source": [
    "x_test, y_test, sym_all_test = make_dataset(pts['filepath'], num_sec=10, fs=100, abnormal=abnormal)\n"
   ]
  },
  {
   "cell_type": "code",
   "execution_count": 14,
   "id": "341935d4-8e7b-47bc-a540-60d5c7a08388",
   "metadata": {
    "tags": []
   },
   "outputs": [],
   "source": [
    "# Define function to plot some images\n",
    "import matplotlib.pyplot as plt\n",
    "\n",
    "def plot_ecgs(ecg, true_labels, class_names, start = 0 ):\n",
    "    plt.figure(figsize=[12, 18])\n",
    "    rows = 8\n",
    "    columns = 2\n",
    "    fig, ax = plt.subplots(rows, columns, figsize=(15, 15))\n",
    "    index = start\n",
    "    for i in range(rows):\n",
    "        for j in range(columns):\n",
    "            ax[i, j].plot(ecg[index])\n",
    "            index = index+1\n",
    "            #ax[i, j].set_ylim(ecg[i].min()-0.05,ecg[i].max()+0.05)\n",
    "            ax[i, j].set_xlabel('time index')\n",
    "            ax[i, j].set_ylabel('ECG signal')\n",
    "            ax[i, j].set_title(class_names[int(true_labels[index])])\n",
    "\n",
    "    plt.tight_layout()"
   ]
  },
  {
   "cell_type": "code",
   "execution_count": null,
   "id": "21a7a88a-87c1-47f5-a394-50be1b0aab8b",
   "metadata": {
    "tags": []
   },
   "outputs": [],
   "source": [
    "plot_ecgs(x_test, y_test, class_names = ['Normal','Apnea'], start=400)\n"
   ]
  },
  {
   "cell_type": "code",
   "execution_count": 13,
   "id": "72227e7e-b2be-438b-b84b-1de82661a4c7",
   "metadata": {
    "tags": []
   },
   "outputs": [],
   "source": [
    "values, counts = np.unique(sym_all, return_counts=True)\n"
   ]
  },
  {
   "cell_type": "code",
   "execution_count": 14,
   "id": "066bfb94-ec9a-4d09-bf57-5681fb580ac7",
   "metadata": {
    "tags": []
   },
   "outputs": [
    {
     "data": {
      "text/plain": [
       "(array(['A', 'N'], dtype='<U1'), array([ 6513, 10495], dtype=int64))"
      ]
     },
     "execution_count": 14,
     "metadata": {},
     "output_type": "execute_result"
    }
   ],
   "source": [
    "values, counts\n"
   ]
  },
  {
   "cell_type": "code",
   "execution_count": 15,
   "id": "b8d9c498-88b5-4b93-9a28-fcaeb78a0b6b",
   "metadata": {
    "tags": []
   },
   "outputs": [],
   "source": [
    "values, counts = np.unique(sym_all_test, return_counts=True)\n"
   ]
  },
  {
   "cell_type": "code",
   "execution_count": 16,
   "id": "ab733d0c-541c-4482-aa83-31d5164d1949",
   "metadata": {
    "tags": []
   },
   "outputs": [
    {
     "data": {
      "text/plain": [
       "(array(['A', 'N'], dtype='<U1'), array([ 6513, 10495], dtype=int64))"
      ]
     },
     "execution_count": 16,
     "metadata": {},
     "output_type": "execute_result"
    }
   ],
   "source": [
    "values, counts\n"
   ]
  },
  {
   "cell_type": "code",
   "execution_count": null,
   "id": "4bece6b9-2b2b-4ce5-aef9-48f258116045",
   "metadata": {
    "tags": []
   },
   "outputs": [],
   "source": [
    "plt.figure(figsize=(5,5))\n",
    "plt.pie(counts, labels=['0','1'], colors=['red','green'], autopct='%1.1f%%')\n",
    "plt.show()"
   ]
  },
  {
   "cell_type": "code",
   "execution_count": 18,
   "id": "9f9f0c7a-be20-473e-b264-1220e7126a45",
   "metadata": {
    "tags": []
   },
   "outputs": [],
   "source": [
    "from sklearn.model_selection import train_test_split\n",
    "\n",
    "# x_train, x_test, y_train, y_test = train_test_split(X_all, Y_all, train_size = 0.8)"
   ]
  },
  {
   "cell_type": "code",
   "execution_count": 19,
   "id": "7fcdf159-bead-480b-bac5-8c4a8009ae94",
   "metadata": {
    "tags": []
   },
   "outputs": [],
   "source": [
    "values, counts = np.unique(y_test, return_counts=True)\n"
   ]
  },
  {
   "cell_type": "code",
   "execution_count": 20,
   "id": "27421d4d-9b5b-44cd-b6cf-79e3c281ef9f",
   "metadata": {
    "tags": []
   },
   "outputs": [
    {
     "data": {
      "text/plain": [
       "(array([0., 1.]), array([10495,  6513], dtype=int64))"
      ]
     },
     "execution_count": 20,
     "metadata": {},
     "output_type": "execute_result"
    }
   ],
   "source": [
    "values, counts\n"
   ]
  },
  {
   "cell_type": "code",
   "execution_count": null,
   "id": "a439c53c-ad16-4d7b-800d-5eef97a10a38",
   "metadata": {
    "tags": []
   },
   "outputs": [],
   "source": [
    "plt.figure(figsize=(5,5))\n",
    "plt.pie(counts, labels=['0','1'], colors=['red','green'], autopct='%1.1f%%')\n",
    "plt.show()"
   ]
  },
  {
   "cell_type": "code",
   "execution_count": 22,
   "id": "e196ca23-95d6-4c8d-a1d9-5c7a1cbfd100",
   "metadata": {
    "tags": []
   },
   "outputs": [],
   "source": [
    "values, counts = np.unique(y_train, return_counts=True)\n"
   ]
  },
  {
   "cell_type": "code",
   "execution_count": 23,
   "id": "66b6363b-96f5-4d60-b509-8d277c627fc2",
   "metadata": {
    "tags": []
   },
   "outputs": [
    {
     "data": {
      "text/plain": [
       "(array([0., 1.]), array([10495,  6513], dtype=int64))"
      ]
     },
     "execution_count": 23,
     "metadata": {},
     "output_type": "execute_result"
    }
   ],
   "source": [
    "values, counts\n"
   ]
  },
  {
   "cell_type": "code",
   "execution_count": null,
   "id": "8ca229da-cbb0-408a-95ed-dd5d45e981c5",
   "metadata": {
    "tags": []
   },
   "outputs": [],
   "source": [
    "plt.figure(figsize=(5,5))\n",
    "plt.pie(counts, labels=['0','1'], colors=['red','green'], autopct='%1.1f%%')\n",
    "plt.show()"
   ]
  },
  {
   "cell_type": "code",
   "execution_count": 25,
   "id": "3b3b5781-00ae-43fc-b725-481626becf93",
   "metadata": {
    "tags": []
   },
   "outputs": [
    {
     "data": {
      "text/plain": [
       "(17008, 2000)"
      ]
     },
     "execution_count": 25,
     "metadata": {},
     "output_type": "execute_result"
    }
   ],
   "source": [
    "x_train.shape\n"
   ]
  },
  {
   "cell_type": "code",
   "execution_count": 26,
   "id": "daf7e795-e302-43f7-aeb9-3aeb19c7248b",
   "metadata": {
    "tags": []
   },
   "outputs": [],
   "source": [
    "x_train = x_train.reshape(x_train.shape[0], x_train.shape[1], 1)\n"
   ]
  },
  {
   "cell_type": "code",
   "execution_count": 27,
   "id": "112513f0-7a06-4a55-93f3-4b2fef7a4947",
   "metadata": {
    "tags": []
   },
   "outputs": [],
   "source": [
    "x_test = x_test.reshape(x_test.shape[0], x_test.shape[1], 1)\n"
   ]
  },
  {
   "cell_type": "code",
   "execution_count": 28,
   "id": "5b9ca0fb-72f9-42dc-ab6b-8caafb7c8be5",
   "metadata": {
    "tags": []
   },
   "outputs": [
    {
     "data": {
      "text/plain": [
       "(17008, 2000, 1)"
      ]
     },
     "execution_count": 28,
     "metadata": {},
     "output_type": "execute_result"
    }
   ],
   "source": [
    "x_train.shape\n"
   ]
  },
  {
   "cell_type": "code",
   "execution_count": 29,
   "id": "4ff10446-4260-45b0-a5d9-0ee5e88b0990",
   "metadata": {
    "tags": []
   },
   "outputs": [
    {
     "name": "stdout",
     "output_type": "stream",
     "text": [
      "WARNING:tensorflow:From C:\\Users\\abbas\\anaconda3\\Lib\\site-packages\\keras\\src\\losses.py:2976: The name tf.losses.sparse_softmax_cross_entropy is deprecated. Please use tf.compat.v1.losses.sparse_softmax_cross_entropy instead.\n",
      "\n",
      "WARNING:tensorflow:From C:\\Users\\abbas\\anaconda3\\Lib\\site-packages\\keras\\src\\backend.py:873: The name tf.get_default_graph is deprecated. Please use tf.compat.v1.get_default_graph instead.\n",
      "\n",
      "WARNING:tensorflow:From C:\\Users\\abbas\\anaconda3\\Lib\\site-packages\\keras\\src\\backend.py:6642: The name tf.nn.max_pool is deprecated. Please use tf.nn.max_pool2d instead.\n",
      "\n",
      "Model: \"sequential\"\n",
      "_________________________________________________________________\n",
      " Layer (type)                Output Shape              Param #   \n",
      "=================================================================\n",
      " conv1d (Conv1D)             (None, 1969, 64)          2112      \n",
      "                                                                 \n",
      " batch_normalization (Batch  (None, 1969, 64)          256       \n",
      " Normalization)                                                  \n",
      "                                                                 \n",
      " max_pooling1d (MaxPooling1  (None, 985, 64)           0         \n",
      " D)                                                              \n",
      "                                                                 \n",
      " conv1d_1 (Conv1D)           (None, 954, 48)           98352     \n",
      "                                                                 \n",
      " batch_normalization_1 (Bat  (None, 954, 48)           192       \n",
      " chNormalization)                                                \n",
      "                                                                 \n",
      " max_pooling1d_1 (MaxPoolin  (None, 477, 48)           0         \n",
      " g1D)                                                            \n",
      "                                                                 \n",
      " conv1d_2 (Conv1D)           (None, 454, 48)           55344     \n",
      "                                                                 \n",
      " batch_normalization_2 (Bat  (None, 454, 48)           192       \n",
      " chNormalization)                                                \n",
      "                                                                 \n",
      " max_pooling1d_2 (MaxPoolin  (None, 227, 48)           0         \n",
      " g1D)                                                            \n",
      "                                                                 \n",
      " conv1d_3 (Conv1D)           (None, 212, 32)           24608     \n",
      "                                                                 \n",
      " batch_normalization_3 (Bat  (None, 212, 32)           128       \n",
      " chNormalization)                                                \n",
      "                                                                 \n",
      " max_pooling1d_3 (MaxPoolin  (None, 106, 32)           0         \n",
      " g1D)                                                            \n",
      "                                                                 \n",
      " global_average_pooling1d (  (None, 32)                0         \n",
      " GlobalAveragePooling1D)                                         \n",
      "                                                                 \n",
      " reshape (Reshape)           (None, 1, 32)             0         \n",
      "                                                                 \n",
      " lstm (LSTM)                 (None, 1, 100)            53200     \n",
      "                                                                 \n",
      " lstm_1 (LSTM)               (None, 1, 100)            80400     \n",
      "                                                                 \n",
      " lstm_2 (LSTM)               (None, 100)               80400     \n",
      "                                                                 \n",
      " dense (Dense)               (None, 64)                6464      \n",
      "                                                                 \n",
      " dropout (Dropout)           (None, 64)                0         \n",
      "                                                                 \n",
      " dense_1 (Dense)             (None, 32)                2080      \n",
      "                                                                 \n",
      " dropout_1 (Dropout)         (None, 32)                0         \n",
      "                                                                 \n",
      " dense_2 (Dense)             (None, 16)                528       \n",
      "                                                                 \n",
      " dense_3 (Dense)             (None, 1)                 17        \n",
      "                                                                 \n",
      "=================================================================\n",
      "Total params: 404273 (1.54 MB)\n",
      "Trainable params: 403889 (1.54 MB)\n",
      "Non-trainable params: 384 (1.50 KB)\n",
      "_________________________________________________________________\n",
      "None\n"
     ]
    }
   ],
   "source": [
    "import keras\n",
    "from keras import models\n",
    "from keras import layers\n",
    "\n",
    "model = models.Sequential()\n",
    "\n",
    "# CNN Layers\n",
    "model.add(layers.Conv1D(64, 32, input_shape=(x_train.shape[1], x_train.shape[2]), activation='relu'))\n",
    "model.add(layers.BatchNormalization())\n",
    "model.add(layers.MaxPooling1D(pool_size=4, strides=2, padding=\"same\"))\n",
    "\n",
    "model.add(layers.Conv1D(48, 32, activation='relu'))\n",
    "model.add(layers.BatchNormalization())\n",
    "model.add(layers.MaxPooling1D(pool_size=3, strides=2, padding=\"same\"))\n",
    "\n",
    "model.add(layers.Conv1D(48, 24, activation='relu'))\n",
    "model.add(layers.BatchNormalization())\n",
    "model.add(layers.MaxPooling1D(pool_size=2, strides=2, padding=\"same\"))\n",
    "\n",
    "model.add(layers.Conv1D(32, 16, activation='relu'))\n",
    "model.add(layers.BatchNormalization())\n",
    "model.add(layers.MaxPooling1D(pool_size=2, strides=2, padding=\"same\"))\n",
    "\n",
    "# Use pooling to reduce dimensions before LSTM\n",
    "model.add(layers.GlobalAveragePooling1D())\n",
    "model.add(layers.Reshape((1, -1)))  # Reshape for LSTM input\n",
    "\n",
    "# LSTM Layers\n",
    "model.add(layers.LSTM(100, return_sequences=True))\n",
    "model.add(layers.LSTM(100, return_sequences=True))\n",
    "model.add(layers.LSTM(100))\n",
    "\n",
    "# Dense Layers\n",
    "model.add(layers.Dense(64, activation='relu'))\n",
    "model.add(layers.Dropout(0.25))\n",
    "model.add(layers.Dense(32, activation='relu'))\n",
    "model.add(layers.Dropout(0.25))\n",
    "model.add(layers.Dense(16, activation='relu'))\n",
    "model.add(layers.Dense(1, activation='sigmoid'))\n",
    "\n",
    "print(model.summary())\n"
   ]
  },
  {
   "cell_type": "code",
   "execution_count": 30,
   "id": "b16c4179-3645-4cc9-b4a0-665b1c3a0227",
   "metadata": {
    "tags": []
   },
   "outputs": [
    {
     "name": "stdout",
     "output_type": "stream",
     "text": [
      "WARNING:tensorflow:From C:\\Users\\abbas\\anaconda3\\Lib\\site-packages\\keras\\src\\optimizers\\__init__.py:309: The name tf.train.Optimizer is deprecated. Please use tf.compat.v1.train.Optimizer instead.\n",
      "\n"
     ]
    }
   ],
   "source": [
    "model.compile(loss='binary_crossentropy', optimizer='Adam', metrics=['accuracy'])\n"
   ]
  },
  {
   "cell_type": "code",
   "execution_count": null,
   "id": "41f47d27-9288-4c24-b34c-4f7b6d1e9323",
   "metadata": {},
   "outputs": [],
   "source": [
    "from keras.callbacks import ModelCheckpoint\n",
    "\n",
    "# Define the checkpoint callback\n",
    "checkpoint = ModelCheckpoint(\n",
    "    '',  # Path where the model will be saved\n",
    "    monitor='val_loss',\n",
    "    save_best_only=True,  # Save only the best model\n",
    "    mode='min',\n",
    "    verbose=1\n",
    ")\n",
    "\n",
    "# Start training with the checkpoint\n",
    "history = model.fit(\n",
    "    x_train,\n",
    "    y_train,\n",
    "    validation_data=(x_test, y_test),\n",
    "    epochs=200,\n",
    "    batch_size=512,\n",
    "    callbacks=[checkpoint]  # Include checkpoint callback here\n",
    ")"
   ]
  },
  {
   "cell_type": "code",
   "execution_count": null,
   "id": "d492a268-f3d7-4d77-8b15-26e729e66ce7",
   "metadata": {
    "tags": []
   },
   "outputs": [],
   "source": [
    "import matplotlib.pyplot as plt\n",
    "\n",
    "acc = history.history['accuracy']\n",
    "val_acc = history.history['val_accuracy']\n",
    "\n",
    "epochs = range(1, len(acc)+1)\n"
   ]
  },
  {
   "cell_type": "code",
   "execution_count": 37,
   "id": "2ffc062a-53d3-4a91-8c02-7f0ff5b81d6a",
   "metadata": {
    "tags": []
   },
   "outputs": [
    {
     "ename": "NameError",
     "evalue": "name 'loss' is not defined",
     "output_type": "error",
     "traceback": [
      "\u001b[1;31m---------------------------------------------------------------------------\u001b[0m",
      "\u001b[1;31mNameError\u001b[0m                                 Traceback (most recent call last)",
      "Cell \u001b[1;32mIn[37], line 10\u001b[0m\n\u001b[0;32m      8\u001b[0m \u001b[38;5;66;03m# Plot loss\u001b[39;00m\n\u001b[0;32m      9\u001b[0m plt\u001b[38;5;241m.\u001b[39mfigure()\n\u001b[1;32m---> 10\u001b[0m plt\u001b[38;5;241m.\u001b[39mplot(epochs, loss, \u001b[38;5;124m'\u001b[39m\u001b[38;5;124mb\u001b[39m\u001b[38;5;124m'\u001b[39m, label\u001b[38;5;241m=\u001b[39m\u001b[38;5;124m'\u001b[39m\u001b[38;5;124mTraining Loss\u001b[39m\u001b[38;5;124m'\u001b[39m)\n\u001b[0;32m     11\u001b[0m plt\u001b[38;5;241m.\u001b[39mplot(epochs, val_loss, \u001b[38;5;124m'\u001b[39m\u001b[38;5;124mr\u001b[39m\u001b[38;5;124m'\u001b[39m, label\u001b[38;5;241m=\u001b[39m\u001b[38;5;124m'\u001b[39m\u001b[38;5;124mValidation Loss\u001b[39m\u001b[38;5;124m'\u001b[39m)\n\u001b[0;32m     12\u001b[0m plt\u001b[38;5;241m.\u001b[39mtitle(\u001b[38;5;124m'\u001b[39m\u001b[38;5;124mTraining and Validation Loss\u001b[39m\u001b[38;5;124m'\u001b[39m)\n",
      "\u001b[1;31mNameError\u001b[0m: name 'loss' is not defined"
     ]
    },
    {
     "data": {
      "image/png": "[encoded data removed]",
      "text/plain": [
       "<Figure size 640x480 with 1 Axes>"
      ]
     },
     "metadata": {},
     "output_type": "display_data"
    },
    {
     "data": {
      "text/plain": [
       "<Figure size 640x480 with 0 Axes>"
      ]
     },
     "metadata": {},
     "output_type": "display_data"
    }
   ],
   "source": [
    "\n",
    "# Plot accuracy\n",
    "plt.figure()\n",
    "plt.plot(epochs, acc, 'b', label='Training Accuracy')\n",
    "plt.plot(epochs, val_acc, 'r', label='Validation Accuracy')\n",
    "plt.title('Training and Validation Accuracy')\n",
    "plt.legend()\n",
    "\n",
    "# Plot loss\n",
    "plt.figure()\n",
    "plt.plot(epochs, loss, 'b', label='Training Loss')\n",
    "plt.plot(epochs, val_loss, 'r', label='Validation Loss')\n",
    "plt.title('Training and Validation Loss')\n",
    "plt.legend()"
   ]
  },
  {
   "cell_type": "code",
   "execution_count": 5,
   "id": "a87a973f-de30-465c-9f98-e18020ece740",
   "metadata": {
    "tags": []
   },
   "outputs": [
    {
     "data": {
      "text/plain": [
       "<matplotlib.legend.Legend at 0x1caf3435310>"
      ]
     },
     "execution_count": 5,
     "metadata": {},
     "output_type": "execute_result"
    },
    {
     "data": {
      "image/png": "[encoded data removed]",
      "text/plain": [
       "<Figure size 640x480 with 1 Axes>"
      ]
     },
     "metadata": {},
     "output_type": "display_data"
    }
   ],
   "source": [
    "import matplotlib.pyplot as plt\n",
    "\n",
    "epochs = list(range(1, 201))\n",
    "\n",
    "# Truncate epochs to match the length of the available data\n",
    "min_length = min(len(epochs), len(train_loss), len(val_loss))\n",
    "epochs = epochs[:min_length]\n",
    "# Ensure the lengths are consistent\n",
    "train_loss = train_loss[:min_length]\n",
    "val_loss = val_loss[:min_length]\n",
    "\n",
    "# Plot loss\n",
    "plt.figure()\n",
    "plt.plot(epochs, train_loss, 'b', label='Training Loss')\n",
    "plt.plot(epochs, val_loss, 'r', label='Validation Loss')\n",
    "plt.title('Training and Validation Loss')\n",
    "plt.legend()\n"
   ]
  },
  {
   "cell_type": "code",
   "execution_count": 36,
   "id": "21b1b73c-d45b-424c-9e7c-a11ac2472bf2",
   "metadata": {
    "tags": []
   },
   "outputs": [
    {
     "name": "stdout",
     "output_type": "stream",
     "text": [
      "532/532 [==============================] - 30s 51ms/step\n"
     ]
    },
    {
     "data": {
      "image/png": "[encoded data removed]",
      "text/plain": [
       "<Figure size 1000x1000 with 1 Axes>"
      ]
     },
     "metadata": {},
     "output_type": "display_data"
    }
   ],
   "source": [
    "from sklearn.metrics import accuracy_score, confusion_matrix, precision_recall_fscore_support\n",
    "import seaborn as sns\n",
    "\n",
    "y_pred = model.predict(x_test)\n",
    "y_pred_classes = y_pred > 0.5\n",
    "\n",
    "# Creates a confusion matrix\n",
    "cm = confusion_matrix(y_test, y_pred_classes) \n",
    "\n",
    "# Transform to df for easier plotting\n",
    "cm_df = pd.DataFrame(cm,\n",
    "                     index   = ['0', '1'], \n",
    "                     columns = ['0', '1'])\n",
    "\n",
    "plt.figure(figsize=(10,10))\n",
    "sns.heatmap(cm_df, annot=True, fmt=\"d\", linewidths=0.5, cmap='Blues', cbar=False, annot_kws={'size':14}, square=True)\n",
    "plt.title('Apnea Detection Conv1d \\nAccuracy:{0:.3f}'.format(accuracy_score(y_test, y_pred_classes)))\n",
    "plt.ylabel('True label')\n",
    "plt.xlabel('Predicted label')\n",
    "plt.show()"
   ]
  },
  {
   "cell_type": "code",
   "execution_count": 34,
   "id": "5bc4d958-ab39-4eda-8019-b9a299527ec3",
   "metadata": {
    "tags": []
   },
   "outputs": [
    {
     "name": "stdout",
     "output_type": "stream",
     "text": [
      "532/532 [==============================] - 37s 67ms/step\n",
      "\n",
      "Model Evaluation Metrics:\n",
      "Sensitivity/Recall: 0.9942\n",
      "Specificity: 0.9982\n",
      "Precision: 0.9971\n",
      "F1-Score: 0.9956\n",
      "Accuracy: 0.9966\n"
     ]
    },
    {
     "data": {
      "image/png": "[encoded data removed]",
      "text/plain": [
       "<Figure size 1000x600 with 1 Axes>"
      ]
     },
     "metadata": {},
     "output_type": "display_data"
    }
   ],
   "source": [
    "import tensorflow as tf\n",
    "import numpy as np\n",
    "from sklearn.metrics import confusion_matrix, classification_report\n",
    "import matplotlib.pyplot as plt\n",
    "\n",
    "def calculate_metrics(checkpoint_path, test_data, test_labels):\n",
    "    \"\"\"\n",
    "    Load a model from a checkpoint and calculate Sensitivity, Specificity, Precision, F1-score, and Accuracy.\n",
    "\n",
    "    Args:\n",
    "        checkpoint_path (str): Path to the model checkpoint.\n",
    "        test_data (numpy.ndarray): Test data inputs.\n",
    "        test_labels (numpy.ndarray): True labels for the test data.\n",
    "\n",
    "    Returns:\n",
    "        dict: A dictionary containing Sensitivity, Specificity, Precision, F1-score, and Accuracy.\n",
    "    \"\"\"\n",
    "    # Load the model from the checkpoint\n",
    "    model = tf.keras.models.load_model(checkpoint_path)\n",
    "\n",
    "    # Make predictions\n",
    "    predictions = model.predict(test_data)\n",
    "    predicted_labels = (predictions > 0.5).astype(int).flatten()\n",
    "\n",
    "    # Convert test_labels to 1D array if not already\n",
    "    true_labels = test_labels.flatten()\n",
    "\n",
    "    # Compute confusion matrix\n",
    "    cm = confusion_matrix(true_labels, predicted_labels)\n",
    "    tn, fp, fn, tp = cm.ravel()\n",
    "\n",
    "    # Calculate metrics\n",
    "    sensitivity = tp / (tp + fn) if (tp + fn) > 0 else 0\n",
    "    specificity = tn / (tn + fp) if (tn + fp) > 0 else 0\n",
    "    precision = tp / (tp + fp) if (tp + fp) > 0 else 0\n",
    "    f1_score = (2 * precision * sensitivity) / (precision + sensitivity) if (precision + sensitivity) > 0 else 0\n",
    "    accuracy = (tp + tn) / (tp + fn + tn + fp) if (tp + fn + tn + fp) > 0 else 0\n",
    "\n",
    "    metrics = {\n",
    "        \"Sensitivity/Recall\": sensitivity,\n",
    "        \"Specificity\": specificity,\n",
    "        \"Precision\": precision,\n",
    "        \"F1-Score\": f1_score,\n",
    "        \"Accuracy\": accuracy\n",
    "    }\n",
    "\n",
    "    return metrics\n",
    "\n",
    "def plot_metrics(metrics):\n",
    "    \"\"\"\n",
    "    Plot the evaluation metrics.\n",
    "\n",
    "    Args:\n",
    "        metrics (dict): Dictionary containing evaluation metrics.\n",
    "    \"\"\"\n",
    "    metric_names = list(metrics.keys())\n",
    "    metric_values = list(metrics.values())\n",
    "\n",
    "    plt.figure(figsize=(10, 6))\n",
    "    plt.bar(metric_names, metric_values, color='skyblue')\n",
    "    plt.ylabel('Score', fontsize=14)\n",
    "    plt.ylim(0, 1)\n",
    "    for i, v in enumerate(metric_values):\n",
    "        plt.text(i, v + 0.02, f\"{v:.4f}\", ha='center', fontsize=12)\n",
    "    plt.show()\n",
    "\n",
    "# Example usage\n",
    "if __name__ == \"__main__\":\n",
    "    checkpoint_path = \"\"\n",
    "\n",
    "    # Assuming x_test and y_test are already prepared\n",
    "    x_test = x_test.reshape(x_test.shape[0], x_test.shape[1], 1)  # Ensure correct shape\n",
    "    metrics = calculate_metrics(checkpoint_path, x_test, y_test)\n",
    "\n",
    "    # Print metrics in a formatted way\n",
    "    print(\"\\nModel Evaluation Metrics:\")\n",
    "    print(f\"Sensitivity/Recall: {metrics['Sensitivity/Recall']:.4f}\")\n",
    "    print(f\"Specificity: {metrics['Specificity']:.4f}\")\n",
    "    print(f\"Precision: {metrics['Precision']:.4f}\")\n",
    "    print(f\"F1-Score: {metrics['F1-Score']:.4f}\")\n",
    "    print(f\"Accuracy: {metrics['Accuracy']:.4f}\")\n",
    "\n",
    "    # Plot metrics\n",
    "    plot_metrics(metrics)\n"
   ]
  },
  {
   "cell_type": "code",
   "execution_count": null,
   "id": "afb7ad1e-72b6-4556-8049-655418e2517e",
   "metadata": {},
   "outputs": [],
   "source": []
  }
 ],
 "metadata": {
  "kernelspec": {
   "display_name": "Python 3 (ipykernel)",
   "language": "python",
   "name": "python3"
  },
  "language_info": {
   "codemirror_mode": {
    "name": "ipython",
    "version": 3
   },
   "file_extension": ".py",
   "mimetype": "text/x-python",
   "name": "python",
   "nbconvert_exporter": "python",
   "pygments_lexer": "ipython3",
   "version": "3.11.4"
  }
 },
 "nbformat": 4,
 "nbformat_minor": 5
}
