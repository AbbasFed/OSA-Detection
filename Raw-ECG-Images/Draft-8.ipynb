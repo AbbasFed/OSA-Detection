{
 "cells": [
  {
   "cell_type": "code",
   "execution_count": 1,
   "id": "7fc560b3-d43c-4042-8709-acaaa1cbef51",
   "metadata": {
    "tags": []
   },
   "outputs": [
    {
     "name": "stdout",
     "output_type": "stream",
     "text": [
      "WARNING:tensorflow:From C:\\Users\\abbas\\anaconda3\\Lib\\site-packages\\keras\\src\\losses.py:2976: The name tf.losses.sparse_softmax_cross_entropy is deprecated. Please use tf.compat.v1.losses.sparse_softmax_cross_entropy instead.\n",
      "\n"
     ]
    }
   ],
   "source": [
    "import numpy as np\n",
    "import pandas as pd\n",
    "import wfdb\n",
    "import matplotlib.pyplot as plt\n",
    "import os\n",
    "import scipy.signal as sgn\n",
    "from tqdm import tqdm\n",
    "from biosppy.signals import ecg\n",
    "from scipy.interpolate import CubicSpline\n",
    "from keras.preprocessing.image import ImageDataGenerator\n",
    "from keras import models, layers\n",
    "from keras.callbacks import ModelCheckpoint\n",
    "from sklearn.metrics import accuracy_score, confusion_matrix, precision_recall_fscore_support\n",
    "import seaborn as sns\n",
    "from scipy.signal import cheby1, filtfilt, medfilt, decimate\n",
    "import tensorflow as tf\n"
   ]
  },
  {
   "cell_type": "code",
   "execution_count": 2,
   "id": "f372d8f4-2c65-4fef-8a46-4fb2ab15b40d",
   "metadata": {
    "tags": []
   },
   "outputs": [],
   "source": [
    "# get the list of files to be processed\n",
    "ecgs_df = pd.read_csv(\"apnea-ecg\\\\1.0.0\\\\list\", header=None, names=['id'])\n",
    "# add filepaths so we can retrieve the files later on\n",
    "ecgs_df['filepath'] = ecgs_df['id'].apply(lambda x: str(\"C:\\\\apnea-ecg\\\\1.0.0\\\\\" + x))\n",
    "# divide the dataset into train and test dataset as per instrucctions in the data set\n",
    "ecgs_df['dataset'] = ecgs_df['id'].apply(lambda x: \"test\" if 'x' in x else \"train\")"
   ]
  },
  {
   "cell_type": "code",
   "execution_count": 3,
   "id": "e9d66cbe-fc28-4ab8-9482-8038cb18c9cb",
   "metadata": {
    "tags": []
   },
   "outputs": [
    {
     "data": {
      "text/html": [
       "<div>\n",
       "<style scoped>\n",
       "    .dataframe tbody tr th:only-of-type {\n",
       "        vertical-align: middle;\n",
       "    }\n",
       "\n",
       "    .dataframe tbody tr th {\n",
       "        vertical-align: top;\n",
       "    }\n",
       "\n",
       "    .dataframe thead th {\n",
       "        text-align: right;\n",
       "    }\n",
       "</style>\n",
       "<table border=\"1\" class=\"dataframe\">\n",
       "  <thead>\n",
       "    <tr style=\"text-align: right;\">\n",
       "      <th></th>\n",
       "      <th>id</th>\n",
       "      <th>filepath</th>\n",
       "      <th>dataset</th>\n",
       "    </tr>\n",
       "  </thead>\n",
       "  <tbody>\n",
       "    <tr>\n",
       "      <th>0</th>\n",
       "      <td>a01</td>\n",
       "      <td>C:\\Users\\abbas\\BAU\\11Fall 2024\\FYP2\\apnea-ecg\\...</td>\n",
       "      <td>train</td>\n",
       "    </tr>\n",
       "    <tr>\n",
       "      <th>1</th>\n",
       "      <td>a02</td>\n",
       "      <td>C:\\Users\\abbas\\BAU\\11Fall 2024\\FYP2\\apnea-ecg\\...</td>\n",
       "      <td>train</td>\n",
       "    </tr>\n",
       "    <tr>\n",
       "      <th>2</th>\n",
       "      <td>a03</td>\n",
       "      <td>C:\\Users\\abbas\\BAU\\11Fall 2024\\FYP2\\apnea-ecg\\...</td>\n",
       "      <td>train</td>\n",
       "    </tr>\n",
       "    <tr>\n",
       "      <th>3</th>\n",
       "      <td>a04</td>\n",
       "      <td>C:\\Users\\abbas\\BAU\\11Fall 2024\\FYP2\\apnea-ecg\\...</td>\n",
       "      <td>train</td>\n",
       "    </tr>\n",
       "    <tr>\n",
       "      <th>4</th>\n",
       "      <td>a05</td>\n",
       "      <td>C:\\Users\\abbas\\BAU\\11Fall 2024\\FYP2\\apnea-ecg\\...</td>\n",
       "      <td>train</td>\n",
       "    </tr>\n",
       "  </tbody>\n",
       "</table>\n",
       "</div>"
      ],
      "text/plain": [
       "    id                                           filepath dataset\n",
       "0  a01  C:\\Users\\abbas\\BAU\\11Fall 2024\\FYP2\\apnea-ecg\\...   train\n",
       "1  a02  C:\\Users\\abbas\\BAU\\11Fall 2024\\FYP2\\apnea-ecg\\...   train\n",
       "2  a03  C:\\Users\\abbas\\BAU\\11Fall 2024\\FYP2\\apnea-ecg\\...   train\n",
       "3  a04  C:\\Users\\abbas\\BAU\\11Fall 2024\\FYP2\\apnea-ecg\\...   train\n",
       "4  a05  C:\\Users\\abbas\\BAU\\11Fall 2024\\FYP2\\apnea-ecg\\...   train"
      ]
     },
     "execution_count": 3,
     "metadata": {},
     "output_type": "execute_result"
    }
   ],
   "source": [
    "# display the first 5 entries\n",
    "ecgs_df.head()"
   ]
  },
  {
   "cell_type": "code",
   "execution_count": 4,
   "id": "913c824e-53f3-46b1-9fce-b6722a8a7c9a",
   "metadata": {
    "tags": []
   },
   "outputs": [
    {
     "name": "stdout",
     "output_type": "stream",
     "text": [
      "train    35\n",
      "test     35\n",
      "Name: dataset, dtype: int64\n"
     ]
    }
   ],
   "source": [
    "# display number of training and testing samples\n",
    "freq = ecgs_df['dataset'].value_counts()\n",
    "print(freq)"
   ]
  },
  {
   "cell_type": "code",
   "execution_count": 5,
   "id": "015c0a21-b847-4dae-aae3-3b3b24f0eaec",
   "metadata": {
    "tags": []
   },
   "outputs": [],
   "source": [
    "def load_ecg(file):\n",
    "    # load the ecg\n",
    "\n",
    "    # load the ecg\n",
    "    record = wfdb.rdrecord(file)\n",
    "\n",
    "    # load the annotation\n",
    "    annotation = wfdb.rdann(file, extension=\"apn\")\n",
    "\n",
    "    # extract the signal\n",
    "    p_signal = record.p_signal\n",
    "\n",
    "    # verify frequency is 100\n",
    "    assert record.fs == 100, 'sample freq is not 100'\n",
    "\n",
    "    # extract symbols and annotation index\n",
    "    atr_sym = annotation.symbol\n",
    "    atr_sample = annotation.sample\n",
    "\n",
    "    return p_signal, atr_sym, atr_sample"
   ]
  },
  {
   "cell_type": "code",
   "execution_count": 8,
   "id": "ec38e472-75cb-454a-b36e-8683fd50f19c",
   "metadata": {
    "tags": []
   },
   "outputs": [],
   "source": [
    "# 2. Save ECG signal as image\n",
    "def save_ecg_as_image(signal, filename):\n",
    "    plt.figure(figsize=(6, 3))  \n",
    "    plt.plot(signal)  \n",
    "    plt.title('ECG Signal')  \n",
    "    plt.xlabel('Time (ms)')  \n",
    "    plt.ylabel('Amplitude')  \n",
    "    plt.grid(False)  \n",
    "    plt.axis('off')  \n",
    "    plt.tight_layout()\n",
    "    plt.savefig(filename, dpi=300, bbox_inches='tight', pad_inches=0)  \n",
    "    plt.close()"
   ]
  },
  {
   "cell_type": "code",
   "execution_count": 9,
   "id": "7a92dca0-ce25-4584-ad6c-20da936fde5c",
   "metadata": {
    "tags": []
   },
   "outputs": [],
   "source": [
    "# Split into training and test set as per instructions\n",
    "train_ecg_paths = ecgs_df[ecgs_df['dataset'] == 'train']['filepath'].tolist()\n",
    "test_ecg_paths = ecgs_df[ecgs_df['dataset'] == 'test']['filepath'].tolist()\n"
   ]
  },
  {
   "cell_type": "code",
   "execution_count": null,
   "id": "4cbbbeb1-b9c7-4c4c-91a5-ec8b501230c7",
   "metadata": {
    "scrolled": true,
    "tags": []
   },
   "outputs": [],
   "source": [
    "import os\n",
    "\n",
    "\n",
    "# 3. Generate and save ECG images, skipping already saved images\n",
    "def generate_ecg_images(pts, num_sec, fs, save_dir):\n",
    "    for pt in pts:\n",
    "        p_signal, atr_sym, atr_sample = load_ecg(pt)\n",
    "        # Grab the first signal channel\n",
    "        p_signal = p_signal[:, 0]\n",
    "        # Extract the base file name (e.g., 'a01') without directory\n",
    "        base_filename = os.path.basename(pt).split('.')[0]\n",
    "        \n",
    "        for i, sample in enumerate(atr_sample):\n",
    "            start_idx = max(0, sample - num_sec * fs)\n",
    "            end_idx = min(len(p_signal), sample + num_sec * fs)\n",
    "            signal_segment = p_signal[start_idx:end_idx]\n",
    "            \n",
    "            # File path where the image will be saved\n",
    "            filename = f\"{save_dir}/ecg_image_{base_filename}_{i}.png\"\n",
    "            \n",
    "            # Skip saving if the file already exists\n",
    "            if os.path.exists(filename):\n",
    "                print(f\"File {filename} already exists, skipping.\")\n",
    "                continue  # Move on to the next sample\n",
    "            \n",
    "            # Save the image if it doesn't exist\n",
    "            save_ecg_as_image(signal_segment, filename)\n",
    "            print(f\"Saved {filename}\")\n",
    "\n",
    "# Ensure save directory exists\n",
    "save_dir = ''\n",
    "if not os.path.exists(save_dir):\n",
    "    os.makedirs(save_dir)\n",
    "\n",
    "# Continue from where you left off\n",
    "generate_ecg_images(train_ecg_paths, num_sec=10, fs=100, save_dir=save_dir)\n",
    "generate_ecg_images(test_ecg_paths, num_sec=10, fs=100, save_dir=save_dir)"
   ]
  },
  {
   "cell_type": "code",
   "execution_count": 11,
   "id": "41f47d27-9288-4c24-b34c-4f7b6d1e9323",
   "metadata": {},
   "outputs": [],
   "source": [
    "# 4. Data Preparation with ImageDataGenerator\n",
    "height, width = 180, 360  # Adjust image dimensions to match your saved images"
   ]
  },
  {
   "cell_type": "code",
   "execution_count": 12,
   "id": "a752d518-70ab-4085-b2f8-ee57dc25d2ae",
   "metadata": {
    "tags": []
   },
   "outputs": [],
   "source": [
    "datagen = ImageDataGenerator(rescale=1./255, validation_split=0.2)  \n"
   ]
  },
  {
   "cell_type": "code",
   "execution_count": 13,
   "id": "f5625172-6f39-4a7e-a0b6-28b6175e3094",
   "metadata": {
    "tags": []
   },
   "outputs": [
    {
     "name": "stdout",
     "output_type": "stream",
     "text": [
      "Found 0 images belonging to 0 classes.\n"
     ]
    }
   ],
   "source": [
    "train_generator = datagen.flow_from_directory(\n",
    "    '/ecg-img',\n",
    "    target_size=(height, width),\n",
    "    batch_size=32,\n",
    "    class_mode='binary',\n",
    "    subset='training'\n",
    ")"
   ]
  },
  {
   "cell_type": "code",
   "execution_count": 23,
   "id": "6cefdd8a-0c36-4cba-ae4b-94287879489e",
   "metadata": {
    "tags": []
   },
   "outputs": [],
   "source": [
    "import shutil\n",
    "\n",
    "\n",
    "def extract_labels(file):\n",
    "    # Load the annotation file (.apn)\n",
    "    annotation = wfdb.rdann(file, extension='apn')\n",
    "    # Extract the annotation symbols ('N' for normal, 'A' for apnea)\n",
    "    labels = annotation.symbol\n",
    "    # Map labels ('A' -> 1 for apnea, 'N' -> 0 for normal)\n",
    "    label_map = {'A': 1, 'N': 0}\n",
    "    return [label_map[symbol] for symbol in labels]"
   ]
  },
  {
   "cell_type": "code",
   "execution_count": 24,
   "id": "680adcdf-cad3-4132-af6b-7100bd2064c5",
   "metadata": {
    "tags": []
   },
   "outputs": [],
   "source": [
    "def move_images_to_class_dirs(image_dir, ecg_paths, save_dir):\n",
    "    for ecg_file in ecg_paths:\n",
    "        base_filename = os.path.basename(ecg_file).split('.')[0]  # Get base name (e.g., a01, x01)\n",
    "        labels = extract_labels(ecg_file)  # Extract labels from the .apn file\n",
    "\n",
    "        for i, label in enumerate(labels):\n",
    "            image_name = f\"ecg_image_{base_filename}_{i}.png\"\n",
    "            src = os.path.join(image_dir, image_name)\n",
    "            \n",
    "            if not os.path.exists(src):\n",
    "                print(f\"Image {src} not found, skipping.\")\n",
    "                continue\n",
    "            \n",
    "            # Create the target directory based on the label (0 or 1)\n",
    "            target_dir = os.path.join(save_dir, str(label))\n",
    "            if not os.path.exists(target_dir):\n",
    "                os.makedirs(target_dir)\n",
    "            \n",
    "            dest = os.path.join(target_dir, image_name)\n",
    "            shutil.move(src, dest)\n",
    "            print(f\"Moved {image_name} to {target_dir}\")"
   ]
  },
  {
   "cell_type": "code",
   "execution_count": null,
   "id": "ef6109e5-786c-4fe3-ac80-cba859227aa7",
   "metadata": {
    "scrolled": true,
    "tags": []
   },
   "outputs": [],
   "source": [
    "# Set your directories (adjust paths as needed)\n",
    "train_image_dir = 'ecg-img/train_set'\n",
    "test_image_dir = 'ecg-img/test_set'\n",
    "\n",
    "# Generate training ECG paths using a for loop with different counts for 'a', 'b', and 'c'\n",
    "train_ecg_paths = []\n",
    "\n",
    "# 'a' prefix has 20 files, so it will go from a01.apn to a20.apn\n",
    "for i in range(1, 21):\n",
    "    train_ecg_paths.append(f\"apnea-ecg/1.0.0/a{str(i).zfill(2)}\")\n",
    "\n",
    "# 'b' prefix has 5 files, so it will go from b01.apn to b05.apn\n",
    "for i in range(1, 6):\n",
    "    train_ecg_paths.append(f\"/apnea-ecg/1.0.0/b{str(i).zfill(2)}\")\n",
    "\n",
    "# 'c' prefix has 10 files, so it will go from c01.apn to c10.apn\n",
    "for i in range(1, 11):\n",
    "    train_ecg_paths.append(f\"apnea-ecg/1.0.0/c{str(i).zfill(2)}\")\n",
    "\n",
    "# Generate testing ECG paths using a for loop (assuming there are 35 files in the test set)\n",
    "test_ecg_paths = []\n",
    "for i in range(1, 36):\n",
    "    test_ecg_paths.append(f\"apnea-ecg/1.0.0/x{str(i).zfill(2)}\")\n",
    "# Step 1: Organize training images into class directories\n",
    "move_images_to_class_dirs(train_image_dir, train_ecg_paths, train_image_dir)\n",
    "\n",
    "# Step 2: Organize test images into class directories\n",
    "move_images_to_class_dirs(test_image_dir, test_ecg_paths, test_image_dir)"
   ]
  },
  {
   "cell_type": "code",
   "execution_count": 35,
   "id": "46d76499-f2cd-4741-bea3-3454b549cc9b",
   "metadata": {
    "tags": []
   },
   "outputs": [],
   "source": [
    "import tensorflow as tf\n",
    "from tensorflow.keras.preprocessing.image import ImageDataGenerator\n",
    "from tensorflow.keras import layers, models\n",
    "from tensorflow.keras.callbacks import ModelCheckpoint\n",
    "\n",
    "# Set directories for train and test images\n",
    "train_dir = r'ecg-img\\train_set'\n",
    "test_dir = r'ecg-img\\test_set'\n",
    "\n",
    "# Image dimensions\n",
    "img_height = 128\n",
    "img_width = 128\n",
    "batch_size = 32\n",
    "\n",
    "# Data generators for loading images\n",
    "train_datagen = ImageDataGenerator(rescale=1./255)  \n",
    "test_datagen = ImageDataGenerator(rescale=1./255)\n"
   ]
  },
  {
   "cell_type": "code",
   "execution_count": 36,
   "id": "014969fc-7c23-49d6-ae92-ed294951dd3f",
   "metadata": {
    "tags": []
   },
   "outputs": [
    {
     "name": "stdout",
     "output_type": "stream",
     "text": [
      "Found 17045 images belonging to 2 classes.\n"
     ]
    }
   ],
   "source": [
    "# Load training images with shuffle\n",
    "train_generator = train_datagen.flow_from_directory(\n",
    "    train_dir,\n",
    "    target_size=(img_height, img_width),\n",
    "    batch_size=batch_size,\n",
    "    class_mode='binary',\n",
    "    shuffle=True  \n",
    ")"
   ]
  },
  {
   "cell_type": "code",
   "execution_count": 37,
   "id": "2d28ff57-caf9-4a42-aabc-5bbcfe38dd9c",
   "metadata": {
    "tags": []
   },
   "outputs": [
    {
     "name": "stdout",
     "output_type": "stream",
     "text": [
      "Found 17268 images belonging to 2 classes.\n"
     ]
    }
   ],
   "source": [
    "# Load test images without shuffle (as it’s for evaluation)\n",
    "test_generator = test_datagen.flow_from_directory(\n",
    "    test_dir,\n",
    "    target_size=(img_height, img_width),\n",
    "    batch_size=batch_size,\n",
    "    class_mode='binary',\n",
    "    shuffle=False  \n",
    ")"
   ]
  },
  {
   "cell_type": "code",
   "execution_count": 45,
   "id": "08b4860e-6525-4146-88aa-a19c7769a941",
   "metadata": {
    "tags": []
   },
   "outputs": [
    {
     "name": "stdout",
     "output_type": "stream",
     "text": [
      "Model: \"sequential_2\"\n",
      "_________________________________________________________________\n",
      " Layer (type)                Output Shape              Param #   \n",
      "=================================================================\n",
      " conv2d_6 (Conv2D)           (None, 126, 126, 32)      896       \n",
      "                                                                 \n",
      " batch_normalization (Batch  (None, 126, 126, 32)      128       \n",
      " Normalization)                                                  \n",
      "                                                                 \n",
      " max_pooling2d_6 (MaxPoolin  (None, 63, 63, 32)        0         \n",
      " g2D)                                                            \n",
      "                                                                 \n",
      " conv2d_7 (Conv2D)           (None, 61, 61, 64)        18496     \n",
      "                                                                 \n",
      " batch_normalization_1 (Bat  (None, 61, 61, 64)        256       \n",
      " chNormalization)                                                \n",
      "                                                                 \n",
      " max_pooling2d_7 (MaxPoolin  (None, 30, 30, 64)        0         \n",
      " g2D)                                                            \n",
      "                                                                 \n",
      " conv2d_8 (Conv2D)           (None, 28, 28, 128)       73856     \n",
      "                                                                 \n",
      " batch_normalization_2 (Bat  (None, 28, 28, 128)       512       \n",
      " chNormalization)                                                \n",
      "                                                                 \n",
      " max_pooling2d_8 (MaxPoolin  (None, 14, 14, 128)       0         \n",
      " g2D)                                                            \n",
      "                                                                 \n",
      " flatten_1 (Flatten)         (None, 25088)             0         \n",
      "                                                                 \n",
      " repeat_vector_1 (RepeatVec  (None, 1, 25088)          0         \n",
      " tor)                                                            \n",
      "                                                                 \n",
      " lstm_2 (LSTM)               (None, 1, 64)             6439168   \n",
      "                                                                 \n",
      " lstm_3 (LSTM)               (None, 64)                33024     \n",
      "                                                                 \n",
      " dense_2 (Dense)             (None, 64)                4160      \n",
      "                                                                 \n",
      " dropout_1 (Dropout)         (None, 64)                0         \n",
      "                                                                 \n",
      " dense_3 (Dense)             (None, 1)                 65        \n",
      "                                                                 \n",
      "=================================================================\n",
      "Total params: 6570561 (25.06 MB)\n",
      "Trainable params: 6570113 (25.06 MB)\n",
      "Non-trainable params: 448 (1.75 KB)\n",
      "_________________________________________________________________\n",
      "None\n"
     ]
    }
   ],
   "source": [
    "# Model building: Combining Conv2D and LSTM layers\n",
    "model = models.Sequential()\n",
    "\n",
    "# Conv2D layers to extract spatial features from images\n",
    "model.add(layers.Conv2D(32, (3, 3), activation='relu', input_shape=(img_height, img_width, 3)))\n",
    "model.add(layers.BatchNormalization())  \n",
    "model.add(layers.MaxPooling2D((2, 2)))\n",
    "\n",
    "model.add(layers.Conv2D(64, (3, 3), activation='relu'))\n",
    "model.add(layers.BatchNormalization())  \n",
    "model.add(layers.MaxPooling2D((2, 2)))\n",
    "\n",
    "model.add(layers.Conv2D(128, (3, 3), activation='relu'))\n",
    "model.add(layers.BatchNormalization())  \n",
    "model.add(layers.MaxPooling2D((2, 2)))\n",
    "\n",
    "# Flatten the data before feeding into LSTM\n",
    "model.add(layers.Flatten())  \n",
    "\n",
    "# LSTM layers to process temporal dependencies\n",
    "model.add(layers.RepeatVector(1))  \n",
    "model.add(layers.LSTM(64, return_sequences=True))\n",
    "model.add(layers.LSTM(64))\n",
    "\n",
    "# Dense layers for classification\n",
    "model.add(layers.Dense(64, activation='relu'))\n",
    "model.add(layers.Dropout(0.5))\n",
    "model.add(layers.Dense(1, activation='sigmoid'))  \n",
    "\n",
    "# Model summary\n",
    "print(model.summary())"
   ]
  },
  {
   "cell_type": "code",
   "execution_count": 46,
   "id": "c3b7483b-3456-4184-9483-5a727376beb4",
   "metadata": {
    "tags": []
   },
   "outputs": [],
   "source": [
    "# Compile the model\n",
    "model.compile(optimizer='adam',\n",
    "              loss='binary_crossentropy',\n",
    "              metrics=['accuracy'])\n"
   ]
  },
  {
   "cell_type": "code",
   "execution_count": 47,
   "id": "58179381-fca6-4393-a3ab-1868f7a0e97b",
   "metadata": {
    "tags": []
   },
   "outputs": [],
   "source": [
    "# Define a checkpoint to save the best model during training\n",
    "checkpoint = ModelCheckpoint(\n",
    "    r\"Model_CheckPoint\\best_model.h5\",  \n",
    "    monitor='val_loss',\n",
    "    save_best_only=True,\n",
    "    mode='min',\n",
    "    verbose=1\n",
    ")\n"
   ]
  },
  {
   "cell_type": "code",
   "execution_count": 48,
   "id": "55634263-873f-4fc5-b700-89ae0f145546",
   "metadata": {
    "tags": []
   },
   "outputs": [
    {
     "name": "stdout",
     "output_type": "stream",
     "text": [
      "Epoch 1/20\n",
      "533/533 [==============================] - ETA: 0s - loss: 0.6315 - accuracy: 0.6474\n",
      "Epoch 1: val_loss improved from inf to 0.73318, saving model to C:\\Users\\abbas\\BAU\\11Fall 2024\\FYP2\\apnea-ecg\\1.0.0\\Model_CheckPoint\\best_model.h5\n",
      "533/533 [==============================] - 719s 1s/step - loss: 0.6315 - accuracy: 0.6474 - val_loss: 0.7332 - val_accuracy: 0.6137\n"
     ]
    },
    {
     "name": "stderr",
     "output_type": "stream",
     "text": [
      "C:\\Users\\abbas\\anaconda3\\Lib\\site-packages\\keras\\src\\engine\\training.py:3103: UserWarning: You are saving your model as an HDF5 file via `model.save()`. This file format is considered legacy. We recommend using instead the native Keras format, e.g. `model.save('my_model.keras')`.\n",
      "  saving_api.save_model(\n"
     ]
    },
    {
     "name": "stdout",
     "output_type": "stream",
     "text": [
      "Epoch 2/20\n",
      "533/533 [==============================] - ETA: 0s - loss: 0.5558 - accuracy: 0.7054\n",
      "Epoch 2: val_loss improved from 0.73318 to 0.68378, saving model to C:\\Users\\abbas\\BAU\\11Fall 2024\\FYP2\\apnea-ecg\\1.0.0\\Model_CheckPoint\\best_model.h5\n",
      "533/533 [==============================] - 745s 1s/step - loss: 0.5558 - accuracy: 0.7054 - val_loss: 0.6838 - val_accuracy: 0.6050\n",
      "Epoch 3/20\n",
      "533/533 [==============================] - ETA: 0s - loss: 0.5337 - accuracy: 0.7218\n",
      "Epoch 3: val_loss did not improve from 0.68378\n",
      "533/533 [==============================] - 718s 1s/step - loss: 0.5337 - accuracy: 0.7218 - val_loss: 1.5947 - val_accuracy: 0.6207\n",
      "Epoch 4/20\n",
      "533/533 [==============================] - ETA: 0s - loss: 0.4905 - accuracy: 0.7448\n",
      "Epoch 4: val_loss improved from 0.68378 to 0.63635, saving model to C:\\Users\\abbas\\BAU\\11Fall 2024\\FYP2\\apnea-ecg\\1.0.0\\Model_CheckPoint\\best_model.h5\n",
      "533/533 [==============================] - 548s 1s/step - loss: 0.4905 - accuracy: 0.7448 - val_loss: 0.6363 - val_accuracy: 0.6236\n",
      "Epoch 5/20\n",
      "533/533 [==============================] - ETA: 0s - loss: 0.4762 - accuracy: 0.7560\n",
      "Epoch 5: val_loss improved from 0.63635 to 0.63281, saving model to C:\\Users\\abbas\\BAU\\11Fall 2024\\FYP2\\apnea-ecg\\1.0.0\\Model_CheckPoint\\best_model.h5\n",
      "533/533 [==============================] - 551s 1s/step - loss: 0.4762 - accuracy: 0.7560 - val_loss: 0.6328 - val_accuracy: 0.6472\n",
      "Epoch 6/20\n",
      "533/533 [==============================] - ETA: 0s - loss: 0.4596 - accuracy: 0.7609\n",
      "Epoch 6: val_loss did not improve from 0.63281\n",
      "533/533 [==============================] - 581s 1s/step - loss: 0.4596 - accuracy: 0.7609 - val_loss: 0.7361 - val_accuracy: 0.5851\n",
      "Epoch 7/20\n",
      "533/533 [==============================] - ETA: 0s - loss: 0.4443 - accuracy: 0.7742\n",
      "Epoch 7: val_loss improved from 0.63281 to 0.63002, saving model to C:\\Users\\abbas\\BAU\\11Fall 2024\\FYP2\\apnea-ecg\\1.0.0\\Model_CheckPoint\\best_model.h5\n",
      "533/533 [==============================] - 741s 1s/step - loss: 0.4443 - accuracy: 0.7742 - val_loss: 0.6300 - val_accuracy: 0.6374\n",
      "Epoch 8/20\n",
      "533/533 [==============================] - ETA: 0s - loss: 0.4309 - accuracy: 0.7778\n",
      "Epoch 8: val_loss did not improve from 0.63002\n",
      "533/533 [==============================] - 782s 1s/step - loss: 0.4309 - accuracy: 0.7778 - val_loss: 0.6716 - val_accuracy: 0.6296\n",
      "Epoch 9/20\n",
      "533/533 [==============================] - ETA: 0s - loss: 0.4210 - accuracy: 0.7901\n",
      "Epoch 9: val_loss did not improve from 0.63002\n",
      "533/533 [==============================] - 868s 2s/step - loss: 0.4210 - accuracy: 0.7901 - val_loss: 0.6829 - val_accuracy: 0.5533\n",
      "Epoch 10/20\n",
      "533/533 [==============================] - ETA: 0s - loss: 0.4146 - accuracy: 0.7931\n",
      "Epoch 10: val_loss did not improve from 0.63002\n",
      "533/533 [==============================] - 878s 2s/step - loss: 0.4146 - accuracy: 0.7931 - val_loss: 0.7374 - val_accuracy: 0.6038\n",
      "Epoch 11/20\n",
      "533/533 [==============================] - ETA: 0s - loss: 0.4061 - accuracy: 0.7989\n",
      "Epoch 11: val_loss did not improve from 0.63002\n",
      "533/533 [==============================] - 852s 2s/step - loss: 0.4061 - accuracy: 0.7989 - val_loss: 0.6662 - val_accuracy: 0.6103\n",
      "Epoch 12/20\n",
      "533/533 [==============================] - ETA: 0s - loss: 0.4008 - accuracy: 0.7995\n",
      "Epoch 12: val_loss did not improve from 0.63002\n",
      "533/533 [==============================] - 736s 1s/step - loss: 0.4008 - accuracy: 0.7995 - val_loss: 1.1732 - val_accuracy: 0.6253\n",
      "Epoch 13/20\n",
      "533/533 [==============================] - ETA: 0s - loss: 0.3915 - accuracy: 0.8076\n",
      "Epoch 13: val_loss did not improve from 0.63002\n",
      "533/533 [==============================] - 694s 1s/step - loss: 0.3915 - accuracy: 0.8076 - val_loss: 0.7283 - val_accuracy: 0.6324\n",
      "Epoch 14/20\n",
      "533/533 [==============================] - ETA: 0s - loss: 0.3886 - accuracy: 0.8129\n",
      "Epoch 14: val_loss did not improve from 0.63002\n",
      "533/533 [==============================] - 550s 1s/step - loss: 0.3886 - accuracy: 0.8129 - val_loss: 0.6896 - val_accuracy: 0.5476\n",
      "Epoch 15/20\n",
      "533/533 [==============================] - ETA: 0s - loss: 0.3846 - accuracy: 0.8142\n",
      "Epoch 15: val_loss did not improve from 0.63002\n",
      "533/533 [==============================] - 539s 1s/step - loss: 0.3846 - accuracy: 0.8142 - val_loss: 0.7988 - val_accuracy: 0.6836\n",
      "Epoch 16/20\n",
      "533/533 [==============================] - ETA: 0s - loss: 0.3847 - accuracy: 0.8113\n",
      "Epoch 16: val_loss did not improve from 0.63002\n",
      "533/533 [==============================] - 551s 1s/step - loss: 0.3847 - accuracy: 0.8113 - val_loss: 0.8393 - val_accuracy: 0.6006\n",
      "Epoch 17/20\n",
      "533/533 [==============================] - ETA: 0s - loss: 0.3820 - accuracy: 0.8165\n",
      "Epoch 17: val_loss did not improve from 0.63002\n",
      "533/533 [==============================] - 788s 1s/step - loss: 0.3820 - accuracy: 0.8165 - val_loss: 0.9029 - val_accuracy: 0.5875\n",
      "Epoch 18/20\n",
      "533/533 [==============================] - ETA: 0s - loss: 0.3723 - accuracy: 0.8266\n",
      "Epoch 18: val_loss did not improve from 0.63002\n",
      "533/533 [==============================] - 772s 1s/step - loss: 0.3723 - accuracy: 0.8266 - val_loss: 0.6723 - val_accuracy: 0.6202\n",
      "Epoch 19/20\n",
      "533/533 [==============================] - ETA: 0s - loss: 0.3739 - accuracy: 0.8228\n",
      "Epoch 19: val_loss did not improve from 0.63002\n",
      "533/533 [==============================] - 687s 1s/step - loss: 0.3739 - accuracy: 0.8228 - val_loss: 0.7102 - val_accuracy: 0.5781\n",
      "Epoch 20/20\n",
      "533/533 [==============================] - ETA: 0s - loss: 0.3646 - accuracy: 0.8260\n",
      "Epoch 20: val_loss did not improve from 0.63002\n",
      "533/533 [==============================] - 709s 1s/step - loss: 0.3646 - accuracy: 0.8260 - val_loss: 0.9601 - val_accuracy: 0.6196\n"
     ]
    }
   ],
   "source": [
    "# Train the model\n",
    "history = model.fit(\n",
    "    train_generator,\n",
    "    epochs=20,\n",
    "    validation_data=test_generator,\n",
    "    callbacks=[checkpoint]\n",
    ")"
   ]
  },
  {
   "cell_type": "code",
   "execution_count": 49,
   "id": "07e6ca3d-97ee-4988-ac8a-6b81d9845c8a",
   "metadata": {
    "tags": []
   },
   "outputs": [
    {
     "data": {
      "image/png": "[encoded data removed]",
      "text/plain": [
       "<Figure size 640x480 with 1 Axes>"
      ]
     },
     "metadata": {},
     "output_type": "display_data"
    }
   ],
   "source": [
    "# Plot accuracy\n",
    "plt.plot(history.history['accuracy'], label='Train Accuracy')\n",
    "plt.plot(history.history['val_accuracy'], label='Validation Accuracy')\n",
    "plt.title('Model Accuracy')\n",
    "plt.xlabel('Epoch')\n",
    "plt.ylabel('Accuracy')\n",
    "plt.legend()\n",
    "plt.show()\n"
   ]
  },
  {
   "cell_type": "code",
   "execution_count": 50,
   "id": "716c36f8-ba5f-4cef-a736-63c2cd4550d9",
   "metadata": {
    "tags": []
   },
   "outputs": [
    {
     "data": {
      "image/png": "[encoded data removed]",
      "text/plain": [
       "<Figure size 640x480 with 1 Axes>"
      ]
     },
     "metadata": {},
     "output_type": "display_data"
    }
   ],
   "source": [
    "# Plot loss\n",
    "plt.plot(history.history['loss'], label='Train Loss')\n",
    "plt.plot(history.history['val_loss'], label='Validation Loss')\n",
    "plt.title('Model Loss')\n",
    "plt.xlabel('Epoch')\n",
    "plt.ylabel('Loss')\n",
    "plt.legend()\n",
    "plt.show()"
   ]
  },
  {
   "cell_type": "code",
   "execution_count": null,
   "id": "f2c3d0ae-055c-4d4c-aa6b-4d38c5c1419e",
   "metadata": {},
   "outputs": [],
   "source": []
  }
 ],
 "metadata": {
  "kernelspec": {
   "display_name": "Python 3 (ipykernel)",
   "language": "python",
   "name": "python3"
  },
  "language_info": {
   "codemirror_mode": {
    "name": "ipython",
    "version": 3
   },
   "file_extension": ".py",
   "mimetype": "text/x-python",
   "name": "python",
   "nbconvert_exporter": "python",
   "pygments_lexer": "ipython3",
   "version": "3.11.4"
  }
 },
 "nbformat": 4,
 "nbformat_minor": 5
}
