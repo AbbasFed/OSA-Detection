{
 "cells": [
  {
   "cell_type": "code",
   "execution_count": 3,
   "id": "7fc560b3-d43c-4042-8709-acaaa1cbef51",
   "metadata": {
    "tags": []
   },
   "outputs": [],
   "source": [
    "import numpy as np\n",
    "import pandas as pd\n",
    "import wfdb\n",
    "import matplotlib.pyplot as plt\n",
    "import os\n",
    "import scipy.signal as sgn\n",
    "from tqdm import tqdm\n",
    "from biosppy.signals import ecg\n",
    "from scipy.interpolate import CubicSpline\n",
    "from keras.preprocessing.image import ImageDataGenerator\n",
    "from keras import models, layers\n",
    "from keras.callbacks import ModelCheckpoint\n",
    "from sklearn.metrics import accuracy_score, confusion_matrix, precision_recall_fscore_support\n",
    "import seaborn as sns\n",
    "from scipy.signal import cheby1, filtfilt, medfilt, decimate\n",
    "import tensorflow as tf\n",
    "import pywt\n",
    "import matplotlib.colors as mcolors\n",
    "import shutil\n",
    "from scipy.signal import butter, filtfilt\n",
    "from multiprocessing import Pool, cpu_count"
   ]
  },
  {
   "cell_type": "code",
   "execution_count": 4,
   "id": "f372d8f4-2c65-4fef-8a46-4fb2ab15b40d",
   "metadata": {
    "tags": []
   },
   "outputs": [],
   "source": [
    "# get the list of files to be processed\n",
    "ecgs_df = pd.read_csv(\"1.0.0\\\\list\", header=None, names=['id'])\n",
    "# add filepaths so we can retrieve the files later on\n",
    "ecgs_df['filepath'] = ecgs_df['id'].apply(lambda x: str(\"apnea-ecg\\\\1.0.0\\\\\" + x))\n",
    "# divide the dataset into train and test dataset as per instrucctions in the data set\n",
    "ecgs_df['dataset'] = ecgs_df['id'].apply(lambda x: \"test\" if 'x' in x else \"train\")"
   ]
  },
  {
   "cell_type": "code",
   "execution_count": 5,
   "id": "e9d66cbe-fc28-4ab8-9482-8038cb18c9cb",
   "metadata": {
    "tags": []
   },
   "outputs": [
    {
     "data": {
      "text/html": [
       "<div>\n",
       "<style scoped>\n",
       "    .dataframe tbody tr th:only-of-type {\n",
       "        vertical-align: middle;\n",
       "    }\n",
       "\n",
       "    .dataframe tbody tr th {\n",
       "        vertical-align: top;\n",
       "    }\n",
       "\n",
       "    .dataframe thead th {\n",
       "        text-align: right;\n",
       "    }\n",
       "</style>\n",
       "<table border=\"1\" class=\"dataframe\">\n",
       "  <thead>\n",
       "    <tr style=\"text-align: right;\">\n",
       "      <th></th>\n",
       "      <th>id</th>\n",
       "      <th>filepath</th>\n",
       "      <th>dataset</th>\n",
       "    </tr>\n",
       "  </thead>\n",
       "  <tbody>\n",
       "    <tr>\n",
       "      <th>0</th>\n",
       "      <td>a01</td>\n",
       "      <td>C:\\Users\\abbas\\BAU\\11Fall 2024\\FYP2\\apnea-ecg\\...</td>\n",
       "      <td>train</td>\n",
       "    </tr>\n",
       "    <tr>\n",
       "      <th>1</th>\n",
       "      <td>a02</td>\n",
       "      <td>C:\\Users\\abbas\\BAU\\11Fall 2024\\FYP2\\apnea-ecg\\...</td>\n",
       "      <td>train</td>\n",
       "    </tr>\n",
       "    <tr>\n",
       "      <th>2</th>\n",
       "      <td>a03</td>\n",
       "      <td>C:\\Users\\abbas\\BAU\\11Fall 2024\\FYP2\\apnea-ecg\\...</td>\n",
       "      <td>train</td>\n",
       "    </tr>\n",
       "    <tr>\n",
       "      <th>3</th>\n",
       "      <td>a04</td>\n",
       "      <td>C:\\Users\\abbas\\BAU\\11Fall 2024\\FYP2\\apnea-ecg\\...</td>\n",
       "      <td>train</td>\n",
       "    </tr>\n",
       "    <tr>\n",
       "      <th>4</th>\n",
       "      <td>a05</td>\n",
       "      <td>C:\\Users\\abbas\\BAU\\11Fall 2024\\FYP2\\apnea-ecg\\...</td>\n",
       "      <td>train</td>\n",
       "    </tr>\n",
       "  </tbody>\n",
       "</table>\n",
       "</div>"
      ],
      "text/plain": [
       "    id                                           filepath dataset\n",
       "0  a01  C:\\Users\\abbas\\BAU\\11Fall 2024\\FYP2\\apnea-ecg\\...   train\n",
       "1  a02  C:\\Users\\abbas\\BAU\\11Fall 2024\\FYP2\\apnea-ecg\\...   train\n",
       "2  a03  C:\\Users\\abbas\\BAU\\11Fall 2024\\FYP2\\apnea-ecg\\...   train\n",
       "3  a04  C:\\Users\\abbas\\BAU\\11Fall 2024\\FYP2\\apnea-ecg\\...   train\n",
       "4  a05  C:\\Users\\abbas\\BAU\\11Fall 2024\\FYP2\\apnea-ecg\\...   train"
      ]
     },
     "execution_count": 5,
     "metadata": {},
     "output_type": "execute_result"
    }
   ],
   "source": [
    "# display the first 5 entries\n",
    "ecgs_df.head()"
   ]
  },
  {
   "cell_type": "code",
   "execution_count": 6,
   "id": "913c824e-53f3-46b1-9fce-b6722a8a7c9a",
   "metadata": {
    "tags": []
   },
   "outputs": [
    {
     "name": "stdout",
     "output_type": "stream",
     "text": [
      "train    35\n",
      "test     35\n",
      "Name: dataset, dtype: int64\n"
     ]
    }
   ],
   "source": [
    "# display number of training and testing samples\n",
    "freq = ecgs_df['dataset'].value_counts()\n",
    "print(freq)"
   ]
  },
  {
   "cell_type": "code",
   "execution_count": 7,
   "id": "13edab7d-0b6c-4f01-b1bf-34286bba34d8",
   "metadata": {
    "tags": []
   },
   "outputs": [],
   "source": [
    "# Function to apply bandpass filter\n",
    "def bandpass_filter(signal, lowcut, highcut, fs, order=4):\n",
    "    nyquist = 0.5 * fs\n",
    "    low = lowcut / nyquist\n",
    "    high = highcut / nyquist\n",
    "    b, a = butter(order, [low, high], btype='band')\n",
    "    filtered_signal = filtfilt(b, a, signal)\n",
    "    return filtered_signal"
   ]
  },
  {
   "cell_type": "code",
   "execution_count": 8,
   "id": "015c0a21-b847-4dae-aae3-3b3b24f0eaec",
   "metadata": {
    "tags": []
   },
   "outputs": [],
   "source": [
    "# Function to load ECG and preprocess it\n",
    "def load_ecg(file):\n",
    "    # Load the ECG signal\n",
    "    record = wfdb.rdrecord(file)\n",
    "\n",
    "    # Load the annotation\n",
    "    annotation = wfdb.rdann(file, extension=\"apn\")\n",
    "\n",
    "    # Extract the signal\n",
    "    p_signal = record.p_signal\n",
    "\n",
    "    # Extract symbols and annotation index\n",
    "    atr_sym = annotation.symbol\n",
    "    atr_sample = annotation.sample\n",
    "\n",
    "    return p_signal, atr_sym, atr_sample"
   ]
  },
  {
   "cell_type": "code",
   "execution_count": 9,
   "id": "0d5ca55a-f0f0-422e-b343-7367140caa9c",
   "metadata": {
    "tags": []
   },
   "outputs": [],
   "source": [
    "# Function to apply CWT to the ECG signal and convert to a spectrogram\n",
    "def apply_cwt(signal, wavelet='morl', scales=np.arange(5, 60)):\n",
    "    coeffs, freqs = pywt.cwt(signal, scales, wavelet)\n",
    "    power = np.abs(coeffs) ** 2  # Power of the CWT coefficients\n",
    "    return power\n"
   ]
  },
  {
   "cell_type": "code",
   "execution_count": 10,
   "id": "ec38e472-75cb-454a-b36e-8683fd50f19c",
   "metadata": {
    "tags": []
   },
   "outputs": [],
   "source": [
    "def save_cwt_as_image(cwt_spectrogram, filename):\n",
    "    plt.figure(figsize=(6, 3))\n",
    "    plt.imshow(cwt_spectrogram, aspect='auto', cmap='jet', norm=mcolors.Normalize(vmin=0, vmax=0.5))\n",
    "    plt.grid(False)\n",
    "    plt.axis('off')  # Remove grid and axis\n",
    "    plt.tight_layout()\n",
    "    plt.savefig(filename, dpi=150, bbox_inches='tight', pad_inches=0)\n",
    "    plt.close()"
   ]
  },
  {
   "cell_type": "code",
   "execution_count": 11,
   "id": "7a92dca0-ce25-4584-ad6c-20da936fde5c",
   "metadata": {
    "tags": []
   },
   "outputs": [],
   "source": [
    "# Split into training and test set as per instructions\n",
    "train_ecg_paths = ecgs_df[ecgs_df['dataset'] == 'train']['filepath'].tolist()\n",
    "test_ecg_paths = ecgs_df[ecgs_df['dataset'] == 'test']['filepath'].tolist()\n"
   ]
  },
  {
   "cell_type": "code",
   "execution_count": 12,
   "id": "9e548f09-6561-456b-836f-5607d9693c22",
   "metadata": {
    "tags": []
   },
   "outputs": [],
   "source": [
    "# Extract labels from annotation file\n",
    "def extract_labels(file):\n",
    "    annotation = wfdb.rdann(file, extension='apn')\n",
    "    labels = annotation.symbol\n",
    "    label_map = {'A': 1, 'N': 0}\n",
    "    return [label_map[symbol] for symbol in labels]"
   ]
  },
  {
   "cell_type": "code",
   "execution_count": 13,
   "id": "db9743d3-b7d5-45bd-bb8c-4cf6da75de2d",
   "metadata": {
    "tags": []
   },
   "outputs": [],
   "source": [
    "# Function to organize and generate CWT images into class directories\n",
    "def generate_and_organize_cwt_images(pts, num_sec, fs, save_dir):\n",
    "    for pt in pts:\n",
    "        base_filename = os.path.basename(pt).split('.')[0]\n",
    "        # Check if the image already exists\n",
    "        filename = f\"{save_dir}/ecg_image_{base_filename}_0.png\"\n",
    "        if os.path.exists(filename):\n",
    "            print(f\"File {filename} already exists, skipping {pt}.\")\n",
    "            continue\n",
    "        \n",
    "        p_signal, atr_sym, atr_sample = load_ecg(pt)\n",
    "        \n",
    "        for i, sample in enumerate(atr_sample):\n",
    "            label = atr_sym[i]\n",
    "            start_idx = max(0, sample - num_sec * fs)\n",
    "            end_idx = min(len(p_signal), sample + num_sec * fs)\n",
    "            signal_segment = p_signal[start_idx:end_idx]\n",
    "\n",
    "            # Apply bandpass filter to the signal segment\n",
    "            filtered_signal_segment = bandpass_filter(signal_segment, lowcut=0.5, highcut=40, fs=fs)\n",
    "\n",
    "            # Apply CWT and generate the spectrogram\n",
    "            cwt_spectrogram = apply_cwt(filtered_signal_segment)\n",
    "\n",
    "            # Define the filename and save the image\n",
    "            filename = f\"{save_dir}/ecg_image_{base_filename}_{i}.png\"\n",
    "\n",
    "            if os.path.exists(filename):\n",
    "                print(f\"File {filename} already exists, skipping.\")\n",
    "                continue\n",
    "\n",
    "            save_cwt_as_image(cwt_spectrogram, filename)\n",
    "            print(f\"Saved {filename}\")\n",
    "\n",
    "            # Move the image to the appropriate class directory (0 for normal, 1 for apnea)\n",
    "            label_dir = '1' if label == 'A' else '0'\n",
    "            target_dir = os.path.join(save_dir, label_dir)\n",
    "            if not os.path.exists(target_dir):\n",
    "                os.makedirs(target_dir)\n",
    "\n",
    "            dest = os.path.join(target_dir, f\"ecg_image_{base_filename}_{i}.png\")\n",
    "            shutil.move(filename, dest)\n",
    "            print(f\"Moved {filename} to {target_dir}\")"
   ]
  },
  {
   "cell_type": "code",
   "execution_count": 19,
   "id": "5ea37f3f-1f79-4af8-b897-78514b2373b1",
   "metadata": {
    "tags": []
   },
   "outputs": [
    {
     "ename": "NameError",
     "evalue": "name 'load_and_preprocess_ecg' is not defined",
     "output_type": "error",
     "traceback": [
      "\u001b[1;31m---------------------------------------------------------------------------\u001b[0m",
      "\u001b[1;31mNameError\u001b[0m                                 Traceback (most recent call last)",
      "Cell \u001b[1;32mIn[19], line 30\u001b[0m\n\u001b[0;32m     28\u001b[0m filepath \u001b[38;5;241m=\u001b[39m \u001b[38;5;124m\"\u001b[39m\u001b[38;5;124mC:/Users/abbas/BAU/11Fall 2024/FYP2/apnea-ecg/1.0.0/a01\u001b[39m\u001b[38;5;124m\"\u001b[39m\n\u001b[0;32m     29\u001b[0m fs \u001b[38;5;241m=\u001b[39m \u001b[38;5;241m100\u001b[39m  \u001b[38;5;66;03m# Sampling frequency of the ECG signal\u001b[39;00m\n\u001b[1;32m---> 30\u001b[0m signal_segment \u001b[38;5;241m=\u001b[39m load_and_preprocess_ecg(filepath, num_sec\u001b[38;5;241m=\u001b[39m\u001b[38;5;241m10\u001b[39m, fs\u001b[38;5;241m=\u001b[39mfs)\n\u001b[0;32m     31\u001b[0m plot_cwt_spectrogram(signal_segment, wavelet\u001b[38;5;241m=\u001b[39m\u001b[38;5;124m'\u001b[39m\u001b[38;5;124mmorl\u001b[39m\u001b[38;5;124m'\u001b[39m)\n",
      "\u001b[1;31mNameError\u001b[0m: name 'load_and_preprocess_ecg' is not defined"
     ]
    }
   ],
   "source": [
    "\n",
    "def plot_cwt_spectrogram(signal_segment, wavelet='morl', scales=np.linspace(5, 100, 150)):\n",
    "    # Apply CWT\n",
    "    coef, freqs = pywt.cwt(signal_segment, scales=scales, wavelet=wavelet)\n",
    "\n",
    "    # Normalize CWT coefficients\n",
    "    norm_coef = np.abs(coef) / np.max(np.abs(coef))\n",
    "\n",
    "    # Plot CWT spectrogram with improved scaling\n",
    "    plt.figure(figsize=(12, 8))\n",
    "    plt.imshow(norm_coef, extent=[0, len(signal_segment), np.min(scales), np.max(scales)],\n",
    "               cmap='jet', aspect='auto', interpolation='bilinear', vmin=0, vmax=0.5)\n",
    "    plt.colorbar(label='Normalized Amplitude')\n",
    "    plt.title(f'CWT Spectrogram with {wavelet} wavelet')\n",
    "    plt.xlabel('Samples')\n",
    "    plt.ylabel('Scales')\n",
    "    plt.show()\n",
    "\n",
    "    # Plot raw ECG signal\n",
    "    plt.figure(figsize=(10, 4))\n",
    "    plt.plot(signal_segment)\n",
    "    plt.title('Raw ECG Segment (Filtered and Normalized)')\n",
    "    plt.xlabel('Samples')\n",
    "    plt.ylabel('Amplitude')\n",
    "    plt.show()\n",
    "\n",
    "\n",
    "# Example usage\n",
    "filepath = \"C:/Users/abbas/BAU/11Fall 2024/FYP2/apnea-ecg/1.0.0/a01\"\n",
    "fs = 100  # Sampling frequency of the ECG signal\n",
    "signal_segment = load_and_preprocess_ecg(filepath, num_sec=10, fs=fs)\n",
    "plot_cwt_spectrogram(signal_segment, wavelet='morl')\n"
   ]
  },
  {
   "cell_type": "code",
   "execution_count": 14,
   "id": "2ce428f8-62c2-41a8-8d80-66c1eb467e3c",
   "metadata": {
    "tags": []
   },
   "outputs": [],
   "source": [
    "# Set directories\n",
    "train_image_dir = 'train_set'\n",
    "test_image_dir = 'test_set'"
   ]
  },
  {
   "cell_type": "code",
   "execution_count": null,
   "id": "ef6109e5-786c-4fe3-ac80-cba859227aa7",
   "metadata": {
    "scrolled": true,
    "tags": []
   },
   "outputs": [],
   "source": [
    "# Train ECG paths\n",
    "train_ecg_paths = []\n",
    "for i in range(1, 21):\n",
    "    train_ecg_paths.append(f\"apnea-ecg/1.0.0/a{str(i).zfill(2)}\")\n",
    "for i in range(1, 6):\n",
    "    train_ecg_paths.append(f\"apnea-ecg/1.0.0/b{str(i).zfill(2)}\")\n",
    "for i in range(1, 11):\n",
    "    train_ecg_paths.append(f\"apnea-ecg/1.0.0/c{str(i).zfill(2)}\")\n",
    "\n",
    "# Test ECG paths\n",
    "test_ecg_paths = []\n",
    "for i in range(1, 36):\n",
    "    test_ecg_paths.append(f\"1.0.0/x{str(i).zfill(2)}\")\n",
    "\n",
    "# Ensure the save directories exist\n",
    "if not os.path.exists(train_image_dir):\n",
    "    os.makedirs(train_image_dir)\n",
    "if not os.path.exists(test_image_dir):\n",
    "    os.makedirs(test_image_dir)\n",
    "\n",
    "\n",
    "# Generate and organize CWT spectrogram images for training and testing sets\n",
    "#generate_and_organize_cwt_images(train_ecg_paths, num_sec=10, fs=100, save_dir=train_image_dir)\n",
    "generate_and_organize_cwt_images(test_ecg_paths, num_sec=10, fs=100, save_dir=test_image_dir)\n",
    "\n"
   ]
  },
  {
   "cell_type": "code",
   "execution_count": 53,
   "id": "46d76499-f2cd-4741-bea3-3454b549cc9b",
   "metadata": {
    "tags": []
   },
   "outputs": [],
   "source": [
    "from keras import models, layers, optimizers, regularizers\n",
    "from tensorflow_addons.optimizers import AdamW\n",
    "\n",
    "def build_cnn_lstm_model(input_shape):\n",
    "    model = models.Sequential()\n",
    "\n",
    "    # Conv2D layers to extract spatial features from images\n",
    "    model.add(layers.Conv2D(32, (3, 3), activation='relu', input_shape=input_shape, \n",
    "                            kernel_initializer='he_normal', kernel_regularizer=regularizers.l2(0.001)))\n",
    "    model.add(layers.BatchNormalization())\n",
    "    model.add(layers.MaxPooling2D((2, 2)))\n",
    "    model.add(layers.Dropout(0.4))  # Slightly increased Dropout\n",
    "\n",
    "    model.add(layers.Conv2D(64, (3, 3), activation='relu', kernel_initializer='he_normal', \n",
    "                            kernel_regularizer=regularizers.l2(0.001)))\n",
    "    model.add(layers.BatchNormalization())\n",
    "    model.add(layers.MaxPooling2D((2, 2)))\n",
    "    model.add(layers.Dropout(0.5))\n",
    "\n",
    "    model.add(layers.Conv2D(128, (3, 3), activation='relu', kernel_initializer='he_normal', \n",
    "                            kernel_regularizer=regularizers.l2(0.001)))\n",
    "    model.add(layers.BatchNormalization())\n",
    "    model.add(layers.MaxPooling2D((2, 2)))\n",
    "    model.add(layers.Dropout(0.5))\n",
    "\n",
    "    # Additional Conv2D layer for deeper feature extraction\n",
    "    model.add(layers.Conv2D(256, (3, 3), activation='relu', kernel_initializer='he_normal', \n",
    "                            kernel_regularizer=regularizers.l2(0.001)))\n",
    "    model.add(layers.BatchNormalization())\n",
    "    model.add(layers.MaxPooling2D((2, 2)))\n",
    "    model.add(layers.Dropout(0.6))\n",
    "\n",
    "    # Flatten the data before feeding into LSTM\n",
    "    model.add(layers.Flatten())\n",
    "\n",
    "    # LSTM layers to process temporal dependencies\n",
    "    model.add(layers.RepeatVector(1))\n",
    "    model.add(layers.LSTM(128, return_sequences=True, kernel_regularizer=regularizers.l2(0.001)))\n",
    "    model.add(layers.Dropout(0.5))\n",
    "    model.add(layers.LSTM(128, kernel_regularizer=regularizers.l2(0.001)))\n",
    "    model.add(layers.Dropout(0.5))\n",
    "\n",
    "    # Fully Connected Layer with L2 regularization\n",
    "    model.add(layers.Dense(128, activation='relu', kernel_regularizer=regularizers.l2(0.001)))\n",
    "    model.add(layers.Dropout(0.6))\n",
    "\n",
    "    # Output Layer\n",
    "    model.add(layers.Dense(1, activation='sigmoid'))\n",
    "\n",
    "    # Compile the model using AdamW Optimizer with Gradient Clipping\n",
    "    optimizer = AdamW(learning_rate=0.0003, weight_decay=1e-6, clipnorm=1.0)\n",
    "    model.compile(optimizer=optimizer,\n",
    "                  loss='binary_crossentropy',\n",
    "                  metrics=['accuracy'])\n",
    "\n",
    "    return model\n"
   ]
  },
  {
   "cell_type": "code",
   "execution_count": 54,
   "id": "014969fc-7c23-49d6-ae92-ed294951dd3f",
   "metadata": {
    "tags": []
   },
   "outputs": [
    {
     "name": "stdout",
     "output_type": "stream",
     "text": [
      "Model: \"sequential_8\"\n",
      "_________________________________________________________________\n",
      " Layer (type)                Output Shape              Param #   \n",
      "=================================================================\n",
      " conv2d_30 (Conv2D)          (None, 126, 126, 32)      896       \n",
      "                                                                 \n",
      " batch_normalization_29 (Ba  (None, 126, 126, 32)      128       \n",
      " tchNormalization)                                               \n",
      "                                                                 \n",
      " max_pooling2d_29 (MaxPooli  (None, 63, 63, 32)        0         \n",
      " ng2D)                                                           \n",
      "                                                                 \n",
      " dropout_53 (Dropout)        (None, 63, 63, 32)        0         \n",
      "                                                                 \n",
      " conv2d_31 (Conv2D)          (None, 61, 61, 64)        18496     \n",
      "                                                                 \n",
      " batch_normalization_30 (Ba  (None, 61, 61, 64)        256       \n",
      " tchNormalization)                                               \n",
      "                                                                 \n",
      " max_pooling2d_30 (MaxPooli  (None, 30, 30, 64)        0         \n",
      " ng2D)                                                           \n",
      "                                                                 \n",
      " dropout_54 (Dropout)        (None, 30, 30, 64)        0         \n",
      "                                                                 \n",
      " conv2d_32 (Conv2D)          (None, 28, 28, 128)       73856     \n",
      "                                                                 \n",
      " batch_normalization_31 (Ba  (None, 28, 28, 128)       512       \n",
      " tchNormalization)                                               \n",
      "                                                                 \n",
      " max_pooling2d_31 (MaxPooli  (None, 14, 14, 128)       0         \n",
      " ng2D)                                                           \n",
      "                                                                 \n",
      " dropout_55 (Dropout)        (None, 14, 14, 128)       0         \n",
      "                                                                 \n",
      " conv2d_33 (Conv2D)          (None, 12, 12, 256)       295168    \n",
      "                                                                 \n",
      " batch_normalization_32 (Ba  (None, 12, 12, 256)       1024      \n",
      " tchNormalization)                                               \n",
      "                                                                 \n",
      " max_pooling2d_32 (MaxPooli  (None, 6, 6, 256)         0         \n",
      " ng2D)                                                           \n",
      "                                                                 \n",
      " dropout_56 (Dropout)        (None, 6, 6, 256)         0         \n",
      "                                                                 \n",
      " flatten_8 (Flatten)         (None, 9216)              0         \n",
      "                                                                 \n",
      " repeat_vector_8 (RepeatVec  (None, 1, 9216)           0         \n",
      " tor)                                                            \n",
      "                                                                 \n",
      " lstm_16 (LSTM)              (None, 1, 128)            4784640   \n",
      "                                                                 \n",
      " dropout_57 (Dropout)        (None, 1, 128)            0         \n",
      "                                                                 \n",
      " lstm_17 (LSTM)              (None, 128)               131584    \n",
      "                                                                 \n",
      " dropout_58 (Dropout)        (None, 128)               0         \n",
      "                                                                 \n",
      " dense_16 (Dense)            (None, 128)               16512     \n",
      "                                                                 \n",
      " dropout_59 (Dropout)        (None, 128)               0         \n",
      "                                                                 \n",
      " dense_17 (Dense)            (None, 1)                 129       \n",
      "                                                                 \n",
      "=================================================================\n",
      "Total params: 5323201 (20.31 MB)\n",
      "Trainable params: 5322241 (20.30 MB)\n",
      "Non-trainable params: 960 (3.75 KB)\n",
      "_________________________________________________________________\n",
      "None\n"
     ]
    }
   ],
   "source": [
    "# Set image input shape (height, width, channels)\n",
    "input_shape = (128, 128, 3) \n",
    "\n",
    "# Build the CNN-LSTM model\n",
    "model = build_cnn_lstm_model(input_shape)\n",
    "\n",
    "# Print the model summary\n",
    "print(model.summary())"
   ]
  },
  {
   "cell_type": "code",
   "execution_count": 55,
   "id": "2d28ff57-caf9-4a42-aabc-5bbcfe38dd9c",
   "metadata": {
    "tags": []
   },
   "outputs": [
    {
     "name": "stdout",
     "output_type": "stream",
     "text": [
      "Found 13611 images belonging to 2 classes.\n",
      "Found 3433 images belonging to 2 classes.\n",
      "Found 17268 images belonging to 2 classes.\n"
     ]
    }
   ],
   "source": [
    "# Define the model checkpoint\n",
    "checkpoint_path = \"best_model.h5\"\n",
    "checkpoint = ModelCheckpoint(filepath=checkpoint_path, monitor='val_loss', save_best_only=True, mode='min', verbose=1)\n",
    "\n",
    "from keras.preprocessing.image import ImageDataGenerator\n",
    "\n",
    "# Set paths for the updated train and validation directories\n",
    "train_new_dir = 'ecg-spec3/train_new'\n",
    "validation_dir = 'ecg-spec3/validation'\n",
    "\n",
    "# Data generators\n",
    "train_datagen = ImageDataGenerator(\n",
    "    rescale=1./255,\n",
    "    rotation_range=5,\n",
    "    shear_range=0.1,\n",
    "    zoom_range=0.1,\n",
    "    horizontal_flip=True,\n",
    "    width_shift_range=0.1,\n",
    "    height_shift_range=0.1,\n",
    "    brightness_range=[0.8, 1.2]\n",
    ")\n",
    "\n",
    "# Train generator from new training directory\n",
    "train_generator = train_datagen.flow_from_directory(\n",
    "    train_new_dir,\n",
    "    target_size=(128, 128),  # Adjust to your model input size\n",
    "    batch_size=64,\n",
    "    class_mode='binary',\n",
    "    shuffle=True\n",
    ")\n",
    "\n",
    "# Validation generator from the new validation directory\n",
    "val_datagen = ImageDataGenerator(rescale=1./255)\n",
    "val_generator = val_datagen.flow_from_directory(\n",
    "    validation_dir,\n",
    "    target_size=(128, 128),  # Adjust to your model input size\n",
    "    batch_size=64,\n",
    "    class_mode='binary',\n",
    "    shuffle=True  # Ensure validation set is shuffled\n",
    ")\n",
    "\n",
    "# Test generator (remain unchanged, as this directory was not modified)\n",
    "test_image_dir = 'ecg-spec3/test_set'\n",
    "test_generator = val_datagen.flow_from_directory(\n",
    "    test_image_dir,\n",
    "    target_size=(128, 128),\n",
    "    batch_size=64,\n",
    "    class_mode='binary',\n",
    "    shuffle=False\n",
    ")\n",
    "\n",
    "# Now, you can continue using these generators in model training\n"
   ]
  },
  {
   "cell_type": "code",
   "execution_count": 56,
   "id": "08b4860e-6525-4146-88aa-a19c7769a941",
   "metadata": {
    "tags": []
   },
   "outputs": [
    {
     "name": "stdout",
     "output_type": "stream",
     "text": [
      "Epoch 1/25\n",
      "213/213 [==============================] - ETA: 0s - loss: 2.1948 - accuracy: 0.5231\n",
      "Epoch 1: val_loss improved from inf to 1.73601, saving model to C:/Users/abbas/BAU/11Fall 2024/FYP2/apnea-ecg/1.0.0/Model_CheckPoint_draft_3\\best_model.h5\n",
      "213/213 [==============================] - 360s 2s/step - loss: 2.1948 - accuracy: 0.5231 - val_loss: 1.7360 - val_accuracy: 0.3822 - lr: 3.0000e-04\n",
      "Epoch 2/25\n"
     ]
    },
    {
     "name": "stderr",
     "output_type": "stream",
     "text": [
      "C:\\Users\\abbas\\anaconda3\\Lib\\site-packages\\keras\\src\\engine\\training.py:3103: UserWarning: You are saving your model as an HDF5 file via `model.save()`. This file format is considered legacy. We recommend using instead the native Keras format, e.g. `model.save('my_model.keras')`.\n",
      "  saving_api.save_model(\n"
     ]
    },
    {
     "name": "stdout",
     "output_type": "stream",
     "text": [
      "213/213 [==============================] - ETA: 0s - loss: 1.4653 - accuracy: 0.5557\n",
      "Epoch 2: val_loss improved from 1.73601 to 1.32296, saving model to C:/Users/abbas/BAU/11Fall 2024/FYP2/apnea-ecg/1.0.0/Model_CheckPoint_draft_3\\best_model.h5\n",
      "213/213 [==============================] - 343s 2s/step - loss: 1.4653 - accuracy: 0.5557 - val_loss: 1.3230 - val_accuracy: 0.3822 - lr: 3.0000e-04\n",
      "Epoch 3/25\n",
      "213/213 [==============================] - ETA: 0s - loss: 1.1413 - accuracy: 0.6338\n",
      "Epoch 3: val_loss improved from 1.32296 to 1.15008, saving model to C:/Users/abbas/BAU/11Fall 2024/FYP2/apnea-ecg/1.0.0/Model_CheckPoint_draft_3\\best_model.h5\n",
      "213/213 [==============================] - 349s 2s/step - loss: 1.1413 - accuracy: 0.6338 - val_loss: 1.1501 - val_accuracy: 0.5669 - lr: 3.0000e-04\n",
      "Epoch 4/25\n",
      "213/213 [==============================] - ETA: 0s - loss: 1.0194 - accuracy: 0.6894\n",
      "Epoch 4: val_loss improved from 1.15008 to 1.06018, saving model to C:/Users/abbas/BAU/11Fall 2024/FYP2/apnea-ecg/1.0.0/Model_CheckPoint_draft_3\\best_model.h5\n",
      "213/213 [==============================] - 338s 2s/step - loss: 1.0194 - accuracy: 0.6894 - val_loss: 1.0602 - val_accuracy: 0.6551 - lr: 3.0000e-04\n",
      "Epoch 5/25\n",
      "213/213 [==============================] - ETA: 0s - loss: 0.9619 - accuracy: 0.7152\n",
      "Epoch 5: val_loss improved from 1.06018 to 0.98341, saving model to C:/Users/abbas/BAU/11Fall 2024/FYP2/apnea-ecg/1.0.0/Model_CheckPoint_draft_3\\best_model.h5\n",
      "213/213 [==============================] - 322s 2s/step - loss: 0.9619 - accuracy: 0.7152 - val_loss: 0.9834 - val_accuracy: 0.6691 - lr: 3.0000e-04\n",
      "Epoch 6/25\n",
      "213/213 [==============================] - ETA: 0s - loss: 0.9247 - accuracy: 0.7346\n",
      "Epoch 6: val_loss improved from 0.98341 to 0.92468, saving model to C:/Users/abbas/BAU/11Fall 2024/FYP2/apnea-ecg/1.0.0/Model_CheckPoint_draft_3\\best_model.h5\n",
      "213/213 [==============================] - 337s 2s/step - loss: 0.9247 - accuracy: 0.7346 - val_loss: 0.9247 - val_accuracy: 0.7241 - lr: 3.0000e-04\n",
      "Epoch 7/25\n",
      "213/213 [==============================] - ETA: 0s - loss: 0.8938 - accuracy: 0.7446\n",
      "Epoch 7: val_loss did not improve from 0.92468\n",
      "213/213 [==============================] - 401s 2s/step - loss: 0.8938 - accuracy: 0.7446 - val_loss: 0.9341 - val_accuracy: 0.7011 - lr: 3.0000e-04\n",
      "Epoch 8/25\n",
      "213/213 [==============================] - ETA: 0s - loss: 0.8641 - accuracy: 0.7574\n",
      "Epoch 8: val_loss did not improve from 0.92468\n",
      "213/213 [==============================] - 405s 2s/step - loss: 0.8641 - accuracy: 0.7574 - val_loss: 0.9438 - val_accuracy: 0.7134 - lr: 3.0000e-04\n",
      "Epoch 9/25\n",
      "213/213 [==============================] - ETA: 0s - loss: 0.8493 - accuracy: 0.7656\n",
      "Epoch 9: val_loss did not improve from 0.92468\n",
      "213/213 [==============================] - 367s 2s/step - loss: 0.8493 - accuracy: 0.7656 - val_loss: 0.9328 - val_accuracy: 0.6880 - lr: 3.0000e-04\n",
      "Epoch 10/25\n",
      "213/213 [==============================] - ETA: 0s - loss: 0.8275 - accuracy: 0.7755\n",
      "Epoch 10: val_loss improved from 0.92468 to 0.86760, saving model to C:/Users/abbas/BAU/11Fall 2024/FYP2/apnea-ecg/1.0.0/Model_CheckPoint_draft_3\\best_model.h5\n",
      "213/213 [==============================] - 334s 2s/step - loss: 0.8275 - accuracy: 0.7755 - val_loss: 0.8676 - val_accuracy: 0.7457 - lr: 3.0000e-04\n",
      "Epoch 11/25\n",
      "213/213 [==============================] - ETA: 0s - loss: 0.8165 - accuracy: 0.7799\n",
      "Epoch 11: val_loss improved from 0.86760 to 0.86208, saving model to C:/Users/abbas/BAU/11Fall 2024/FYP2/apnea-ecg/1.0.0/Model_CheckPoint_draft_3\\best_model.h5\n",
      "213/213 [==============================] - 399s 2s/step - loss: 0.8165 - accuracy: 0.7799 - val_loss: 0.8621 - val_accuracy: 0.7364 - lr: 3.0000e-04\n",
      "Epoch 12/25\n",
      "213/213 [==============================] - ETA: 0s - loss: 0.8023 - accuracy: 0.7899\n",
      "Epoch 12: val_loss improved from 0.86208 to 0.81878, saving model to C:/Users/abbas/BAU/11Fall 2024/FYP2/apnea-ecg/1.0.0/Model_CheckPoint_draft_3\\best_model.h5\n",
      "213/213 [==============================] - 406s 2s/step - loss: 0.8023 - accuracy: 0.7899 - val_loss: 0.8188 - val_accuracy: 0.7745 - lr: 3.0000e-04\n",
      "Epoch 13/25\n",
      "213/213 [==============================] - ETA: 0s - loss: 0.7939 - accuracy: 0.7960\n",
      "Epoch 13: val_loss did not improve from 0.81878\n",
      "213/213 [==============================] - 413s 2s/step - loss: 0.7939 - accuracy: 0.7960 - val_loss: 0.8623 - val_accuracy: 0.7399 - lr: 3.0000e-04\n",
      "Epoch 14/25\n",
      "213/213 [==============================] - ETA: 0s - loss: 0.7830 - accuracy: 0.7960\n",
      "Epoch 14: val_loss improved from 0.81878 to 0.80509, saving model to C:/Users/abbas/BAU/11Fall 2024/FYP2/apnea-ecg/1.0.0/Model_CheckPoint_draft_3\\best_model.h5\n",
      "213/213 [==============================] - 413s 2s/step - loss: 0.7830 - accuracy: 0.7960 - val_loss: 0.8051 - val_accuracy: 0.7833 - lr: 3.0000e-04\n",
      "Epoch 15/25\n",
      "213/213 [==============================] - ETA: 0s - loss: 0.7790 - accuracy: 0.7996\n",
      "Epoch 15: val_loss did not improve from 0.80509\n",
      "213/213 [==============================] - 401s 2s/step - loss: 0.7790 - accuracy: 0.7996 - val_loss: 0.8180 - val_accuracy: 0.7830 - lr: 3.0000e-04\n",
      "Epoch 16/25\n",
      "213/213 [==============================] - ETA: 0s - loss: 0.7746 - accuracy: 0.8052\n",
      "Epoch 16: val_loss did not improve from 0.80509\n",
      "213/213 [==============================] - 370s 2s/step - loss: 0.7746 - accuracy: 0.8052 - val_loss: 0.8074 - val_accuracy: 0.7882 - lr: 3.0000e-04\n",
      "Epoch 17/25\n",
      "213/213 [==============================] - ETA: 0s - loss: 0.7757 - accuracy: 0.8019\n",
      "Epoch 17: val_loss improved from 0.80509 to 0.80315, saving model to C:/Users/abbas/BAU/11Fall 2024/FYP2/apnea-ecg/1.0.0/Model_CheckPoint_draft_3\\best_model.h5\n",
      "213/213 [==============================] - 365s 2s/step - loss: 0.7757 - accuracy: 0.8019 - val_loss: 0.8031 - val_accuracy: 0.7929 - lr: 3.0000e-04\n",
      "Epoch 18/25\n",
      "213/213 [==============================] - ETA: 0s - loss: 0.7599 - accuracy: 0.8104\n",
      "Epoch 18: val_loss did not improve from 0.80315\n",
      "213/213 [==============================] - 371s 2s/step - loss: 0.7599 - accuracy: 0.8104 - val_loss: 0.8177 - val_accuracy: 0.7655 - lr: 3.0000e-04\n",
      "Epoch 19/25\n",
      "213/213 [==============================] - ETA: 0s - loss: 0.7552 - accuracy: 0.8096\n",
      "Epoch 19: val_loss improved from 0.80315 to 0.77201, saving model to C:/Users/abbas/BAU/11Fall 2024/FYP2/apnea-ecg/1.0.0/Model_CheckPoint_draft_3\\best_model.h5\n",
      "213/213 [==============================] - 350s 2s/step - loss: 0.7552 - accuracy: 0.8096 - val_loss: 0.7720 - val_accuracy: 0.8034 - lr: 3.0000e-04\n",
      "Epoch 20/25\n",
      "213/213 [==============================] - ETA: 0s - loss: 0.7518 - accuracy: 0.8115\n",
      "Epoch 20: val_loss did not improve from 0.77201\n",
      "213/213 [==============================] - 326s 2s/step - loss: 0.7518 - accuracy: 0.8115 - val_loss: 0.8106 - val_accuracy: 0.7830 - lr: 3.0000e-04\n",
      "Epoch 21/25\n",
      "213/213 [==============================] - ETA: 0s - loss: 0.7469 - accuracy: 0.8200\n",
      "Epoch 21: val_loss improved from 0.77201 to 0.75717, saving model to C:/Users/abbas/BAU/11Fall 2024/FYP2/apnea-ecg/1.0.0/Model_CheckPoint_draft_3\\best_model.h5\n",
      "213/213 [==============================] - 326s 2s/step - loss: 0.7469 - accuracy: 0.8200 - val_loss: 0.7572 - val_accuracy: 0.8045 - lr: 3.0000e-04\n",
      "Epoch 22/25\n",
      "213/213 [==============================] - ETA: 0s - loss: 0.7488 - accuracy: 0.8163\n",
      "Epoch 22: val_loss did not improve from 0.75717\n",
      "213/213 [==============================] - 297s 1s/step - loss: 0.7488 - accuracy: 0.8163 - val_loss: 0.7726 - val_accuracy: 0.8060 - lr: 3.0000e-04\n",
      "Epoch 23/25\n",
      "213/213 [==============================] - ETA: 0s - loss: 0.7524 - accuracy: 0.8171\n",
      "Epoch 23: val_loss did not improve from 0.75717\n",
      "213/213 [==============================] - 253s 1s/step - loss: 0.7524 - accuracy: 0.8171 - val_loss: 0.7780 - val_accuracy: 0.8060 - lr: 3.0000e-04\n",
      "Epoch 24/25\n",
      "213/213 [==============================] - ETA: 0s - loss: 0.7563 - accuracy: 0.8159\n",
      "Epoch 24: val_loss did not improve from 0.75717\n",
      "213/213 [==============================] - 245s 1s/step - loss: 0.7563 - accuracy: 0.8159 - val_loss: 0.7927 - val_accuracy: 0.7973 - lr: 3.0000e-04\n",
      "Epoch 25/25\n",
      "213/213 [==============================] - ETA: 0s - loss: 0.7520 - accuracy: 0.8212\n",
      "Epoch 25: ReduceLROnPlateau reducing learning rate to 9.000000427477062e-05.\n",
      "\n",
      "Epoch 25: val_loss did not improve from 0.75717\n",
      "213/213 [==============================] - 240s 1s/step - loss: 0.7520 - accuracy: 0.8212 - val_loss: 0.7785 - val_accuracy: 0.8019 - lr: 3.0000e-04\n"
     ]
    }
   ],
   "source": [
    "reduce_lr = tf.keras.callbacks.ReduceLROnPlateau(\n",
    "    monitor='val_loss', factor=0.3, patience=4, min_lr=1e-6, verbose=1\n",
    ")\n",
    "early_stopping = tf.keras.callbacks.EarlyStopping(monitor='val_loss', patience=5, restore_best_weights=True)\n",
    "\n",
    "# Calculate class weights\n",
    "from sklearn.utils.class_weight import compute_class_weight\n",
    "class_weights = compute_class_weight('balanced', classes=[0, 1], y=train_generator.classes)\n",
    "class_weights_dict = dict(enumerate(class_weights))\n",
    "\n",
    "# Train the model\n",
    "history = model.fit(\n",
    "    train_generator,\n",
    "    validation_data=val_generator,\n",
    "    epochs=25,\n",
    "    class_weight=class_weights_dict,\n",
    "    callbacks=[reduce_lr, early_stopping, checkpoint]\n",
    ")"
   ]
  },
  {
   "cell_type": "code",
   "execution_count": 57,
   "id": "e2f3a0b5-b536-42ea-a82e-1fd0d79541c9",
   "metadata": {
    "tags": []
   },
   "outputs": [
    {
     "data": {
      "image/png": "[encoded data removed]",
      "text/plain": [
       "<Figure size 640x480 with 1 Axes>"
      ]
     },
     "metadata": {},
     "output_type": "display_data"
    },
    {
     "data": {
      "image/png": "[encoded data removed]",
      "text/plain": [
       "<Figure size 640x480 with 1 Axes>"
      ]
     },
     "metadata": {},
     "output_type": "display_data"
    }
   ],
   "source": [
    "acc = history.history['accuracy']\n",
    "val_acc = history.history['val_accuracy']\n",
    "loss = history.history['loss']\n",
    "val_loss = history.history['val_loss']\n",
    "epochs = range(1, len(acc) + 1)\n",
    "\n",
    "# Plot accuracy\n",
    "plt.figure()\n",
    "plt.plot(epochs, acc, 'b', label='Training Accuracy')\n",
    "plt.plot(epochs, val_acc, 'r', label='Validation Accuracy')\n",
    "plt.title('Training and Validation Accuracy')\n",
    "plt.legend()\n",
    "\n",
    "# Plot loss\n",
    "plt.figure()\n",
    "plt.plot(epochs, loss, 'b', label='Training Loss')\n",
    "plt.plot(epochs, val_loss, 'r', label='Validation Loss')\n",
    "plt.title('Training and Validation Loss')\n",
    "plt.legend()\n",
    "\n",
    "plt.show()"
   ]
  },
  {
   "cell_type": "code",
   "execution_count": null,
   "id": "fee42456-75bc-491d-9f69-fe90ad83e2fc",
   "metadata": {},
   "outputs": [],
   "source": []
  }
 ],
 "metadata": {
  "kernelspec": {
   "display_name": "Python 3 (ipykernel)",
   "language": "python",
   "name": "python3"
  },
  "language_info": {
   "codemirror_mode": {
    "name": "ipython",
    "version": 3
   },
   "file_extension": ".py",
   "mimetype": "text/x-python",
   "name": "python",
   "nbconvert_exporter": "python",
   "pygments_lexer": "ipython3",
   "version": "3.11.4"
  }
 },
 "nbformat": 4,
 "nbformat_minor": 5
}
